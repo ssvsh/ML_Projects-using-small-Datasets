{
  "nbformat": 4,
  "nbformat_minor": 0,
  "metadata": {
    "colab": {
      "provenance": []
    },
    "kernelspec": {
      "name": "python3",
      "display_name": "Python 3"
    },
    "language_info": {
      "name": "python"
    }
  },
  "cells": [
    {
      "cell_type": "markdown",
      "source": [
        "# **Load data from Google Drive**"
      ],
      "metadata": {
        "id": "_kQ-km7u-pYs"
      }
    },
    {
      "cell_type": "code",
      "execution_count": null,
      "metadata": {
        "id": "GzZWPg8WxN0l",
        "colab": {
          "base_uri": "https://localhost:8080/"
        },
        "outputId": "0599cd78-ea6f-4c30-b169-e5f6caa0d117"
      },
      "outputs": [
        {
          "output_type": "stream",
          "name": "stdout",
          "text": [
            "Mounted at /content/drive\n"
          ]
        }
      ],
      "source": [
        "from google.colab import drive\n",
        "drive.mount('/content/drive')"
      ]
    },
    {
      "cell_type": "code",
      "source": [
        "import pandas as pd\n",
        "\n",
        "D = pd.read_csv(\"/content/drive/MyDrive/data/KCV.csv\").values\n",
        "\n",
        "X = D[:, :2]\n",
        "Y = D[:, 2]"
      ],
      "metadata": {
        "id": "ctKD1Tg0_Y13"
      },
      "execution_count": null,
      "outputs": []
    },
    {
      "cell_type": "markdown",
      "source": [
        "# **Fitting an SVM model**"
      ],
      "metadata": {
        "id": "JLLSF_mhyMgj"
      }
    },
    {
      "cell_type": "code",
      "source": [
        "from sklearn.svm import SVC\n",
        "from sklearn.model_selection import train_test_split\n",
        "from sklearn.metrics import accuracy_score\n",
        "\n",
        "clf = SVC(kernel='poly', degree =2, C=1, coef0=1)\n",
        "\n",
        "X_train, X_test, Y_train, Y_test = train_test_split(X, Y, test_size=0.25, random_state=42)\n",
        "clf.fit(X_train,Y_train)\n",
        "Y_pred = clf.predict(X_test)\n",
        "acc= accuracy_score(Y_test, Y_pred)\n",
        "\n",
        "print(acc)\n",
        "\n"
      ],
      "metadata": {
        "colab": {
          "base_uri": "https://localhost:8080/"
        },
        "id": "6PJgLjJyz0mj",
        "outputId": "91faac55-6ff6-4dca-a9e2-99862d82a06a"
      },
      "execution_count": null,
      "outputs": [
        {
          "output_type": "stream",
          "name": "stdout",
          "text": [
            "0.864\n"
          ]
        }
      ]
    },
    {
      "cell_type": "markdown",
      "source": [
        "# **K-fold cross-validation**"
      ],
      "metadata": {
        "id": "tV6ErhTL1CXL"
      }
    },
    {
      "cell_type": "code",
      "source": [
        "from sklearn.model_selection import KFold\n",
        "import numpy as np\n",
        "\n",
        "\n",
        "K=10 #K-foldCV\n",
        "\n",
        "alphas = np.array([0.0, 1.0]) # Candidates for values of hyper-parameter\n",
        "\n",
        "N = len(alphas) # Number of lasso parameters\n",
        "scores = np.zeros((N,K))\n",
        "kf = KFold(n_splits=10)\n",
        "\n",
        "for i in range(N):\n",
        "   clf = SVC(kernel='poly', degree =2, C=1, coef0=alphas[i])\n",
        "   for j, (train, test) in enumerate(kf.split(X)):\n",
        "      X_train, X_test, Y_train, Y_test = X[train], X[test], Y[train], Y[test]\n",
        "      clf.fit(X_train,Y_train)\n",
        "      Y_pred = clf.predict(X_test)\n",
        "\n",
        "      scores[i,j] = accuracy_score(Y_test, Y_pred)\n",
        "\n",
        "# Compute average CV score for each parameter\n",
        "scores_avg = scores.mean(axis=1)"
      ],
      "metadata": {
        "id": "pSNj5SC2xVuI"
      },
      "execution_count": null,
      "outputs": []
    },
    {
      "cell_type": "code",
      "source": [
        "import matplotlib.pyplot as plt\n",
        "plt.plot(alphas, scores_avg)\n",
        "\n",
        "scores_avg"
      ],
      "metadata": {
        "colab": {
          "base_uri": "https://localhost:8080/",
          "height": 467
        },
        "id": "go4bl9F12LAM",
        "outputId": "08af88f5-c8d5-4ace-8428-ad47e81af538"
      },
      "execution_count": null,
      "outputs": [
        {
          "output_type": "execute_result",
          "data": {
            "text/plain": [
              "array([0.688, 0.82 ])"
            ]
          },
          "metadata": {},
          "execution_count": 15
        },
        {
          "output_type": "display_data",
          "data": {
            "text/plain": [
              "<Figure size 640x480 with 1 Axes>"
            ],
            "image/png": "[encoded data removed]"
          },
          "metadata": {}
        }
      ]
    }
  ]
}