{
  "cells": [
    {
      "cell_type": "markdown",
      "metadata": {
        "id": "6MiO9dItusBX"
      },
      "source": [
        "# <center>Fully Connected Neural Network</center>\n",
        "\n",
        "In this assignment, you will learn how to build a fully connected neural network using NumPy. Note that you **cannot** use Pytorch for this assignment.\n",
        "\n",
        "## 1 -  Neural network architecture\n",
        "You will build a fully connected neural network with 4 layers: an input layer, two hidden layers, and an output layer. Each layer will be fully connected, and the network will use the sigmoid activation function. Optimization will be done using stochastic gradient descent.\n",
        "\n",
        "Let's define the layers in detail. Since the task is to classify digits, the neural network will output probabilities indicating how likely an input image belongs to each class.\n",
        "\n",
        "1. **Input Layer**: The input consists of 28x28 pixel images. These images will be flattened into a one-dimensional array of size $ 28 \\times 28 = 784 $ elements. Therefore, the input layer will have 784 nodes.\n",
        "   \n",
        "2. **1st Hidden Layer**: This layer will reduce the number of nodes from 784 (in the input layer) to 64. The goal here is to learn a compact representation of the input features.\n",
        "\n",
        "3. **2nd Hidden Layer**: This layer will reduce the number of nodes from 64 (in the 1st Hidden Layer) to 32. The goal here is to learn a compact representation of the input features.\n",
        "   \n",
        "4. **Output Layer**: The 2nd hidden layer’s 32 nodes will be further reduced to 10 nodes in the output layer. This corresponds to the 10 possible digit classes (0 through 9). The output will be an array of 10 elements, where each element represents the probability that the input image belongs to that class. The correct class will have a label of 1, while all others will be labeled 0.\n"
      ]
    },
    {
      "cell_type": "code",
      "execution_count": null,
      "metadata": {
        "id": "E5cmYgBvusBZ"
      },
      "outputs": [],
      "source": [
        "import numpy as np\n",
        "from sklearn.datasets import fetch_openml\n",
        "import matplotlib.pyplot as plt\n",
        "import time"
      ]
    },
    {
      "cell_type": "markdown",
      "metadata": {
        "id": "fcPnH9GuusBa"
      },
      "source": [
        "## 2 - Helper functions"
      ]
    },
    {
      "cell_type": "code",
      "execution_count": null,
      "metadata": {
        "id": "OkFmhtHhusBa"
      },
      "outputs": [],
      "source": [
        "# Helper function\n",
        "def show_images(image, num_row=2, num_col=5):\n",
        "    # plot images\n",
        "    image_size = int(np.sqrt(image.shape[-1]))\n",
        "    image = np.reshape(image, (image.shape[0], image_size, image_size))\n",
        "    fig, axes = plt.subplots(num_row, num_col, figsize=(1.5*num_col,2*num_row))\n",
        "    for i in range(num_row*num_col):\n",
        "        ax = axes[i//num_col, i%num_col]\n",
        "        ax.imshow(image[i], cmap='gray', vmin=0, vmax=1)\n",
        "        ax.axis('off')\n",
        "    plt.tight_layout()\n",
        "    plt.show()\n",
        "\n",
        "def one_hot(x, k, dtype=np.float32):\n",
        "    \"\"\"Create a one-hot encoding of x of size k.\"\"\"\n",
        "    return np.array(x[:, None] == np.arange(k), dtype)"
      ]
    },
    {
      "cell_type": "markdown",
      "metadata": {
        "id": "yBHyeVEwusBa"
      },
      "source": [
        "## 3 - Dataset preparation\n",
        "In this assignment, you will use the [MNIST dataset](http://yann.lecun.com/exdb/mnist/) to demonstrate how to build a neural network. The MNIST dataset contains 70,000 grayscale images of handwritten digits, with 60,000 used for training and 10,000 for testing. Each image is \\(28 x 28\\) pixels, and the pixel values range from 0 to 255.\n",
        "\n",
        "### Note\n",
        "To load the dataset, `fetch_openml` requires `scikit-learn >= 0.22`. If you are using an older version, replace `from sklearn.datasets import fetch_openml` with `from sklearn.datasets import fetch_mldata`.\n",
        "\n",
        "Next, we will load and preprocess the dataset so it can be used in NumPy. The images will be normalized by dividing all pixel values by 255, which scales the data to a range between 0 and 1. This helps avoid numerical stability issues with activation functions. Additionally, we will use one-hot encoding for the labels, which makes it easier to compute the error between the network's output and the true labels. Lastly, we will flatten each image into an array of \\(28 x 28 = 784\\) elements to match the input layer's requirements."
      ]
    },
    {
      "cell_type": "code",
      "execution_count": null,
      "metadata": {
        "scrolled": true,
        "id": "-sVZhlpxusBb"
      },
      "outputs": [],
      "source": [
        "# Load data\n",
        "mnist_data = fetch_openml(\"mnist_784\")\n",
        "x = mnist_data[\"data\"]\n",
        "y = mnist_data[\"target\"].astype(int)\n",
        "\n",
        "# Normalize\n",
        "x /= 255.0\n",
        "\n",
        "# One-hot encode labels\n",
        "num_labels = 10\n",
        "examples = y.shape[0]\n",
        "y_new = one_hot(np.array(y), num_labels)\n",
        "\n",
        "# Split, reshape, shuffle\n",
        "train_size = 60000\n",
        "test_size = x.shape[0] - train_size\n",
        "x_train, x_test = x[:train_size].to_numpy(), x[train_size:].to_numpy()\n",
        "y_train, y_test = y_new[:train_size], y_new[train_size:]\n",
        "\n",
        "shuffle_index = np.random.permutation(train_size)\n",
        "x_train, y_train = x_train[shuffle_index], y_train[shuffle_index]"
      ]
    },
    {
      "cell_type": "code",
      "execution_count": null,
      "metadata": {
        "colab": {
          "base_uri": "https://localhost:8080/",
          "height": 377
        },
        "id": "_SikO-G2usBb",
        "outputId": "59647e4b-e005-406c-fa5f-6e87444cbfb5"
      },
      "outputs": [
        {
          "output_type": "stream",
          "name": "stdout",
          "text": [
            "Training data: (60000, 784) (60000, 10)\n",
            "Test data: (10000, 784) (10000, 10)\n"
          ]
        },
        {
          "output_type": "display_data",
          "data": {
            "text/plain": [
              "<Figure size 750x400 with 10 Axes>"
            ],
            "image/png": "[encoded data removed]"
          },
          "metadata": {}
        }
      ],
      "source": [
        "print(\"Training data: {} {}\".format(x_train.shape, y_train.shape))\n",
        "print(\"Test data: {} {}\".format(x_test.shape, y_test.shape))\n",
        "show_images(x_train)"
      ]
    },
    {
      "cell_type": "markdown",
      "metadata": {
        "id": "BmlQiulAusBc"
      },
      "source": [
        "## 4 - Fully Connected Neural Network with Numpy\n",
        "\n",
        "\n",
        "### Initialization\n",
        "The neural network transforms data from 784 input nodes down to 10 output nodes. This transformation is achieved by defining the number of nodes in each layer through an array of sizes passed when initializing the `DeepNeuralNetwork` class. For instance, specifying `[784, 64, 32, 10]` would create a network with an input layer of 784 nodes, a hidden layer of 64 nodes, a hidden layer of 32 nodes, and an output layer of 10 nodes.\n",
        "\n",
        "To optimize the network’s performance, it’s crucial to initialize weights carefully. A common approach is to scale the weights’ variance in each layer to stabilize learning. Following a technique recommended by Andrew Ng, we set the variance for each layer's weights to $\\frac{1}{n} $, where $n$ is the number of nodes feeding into that layer. To achieve this, we initialize weights using values from a standard normal distribution, then scale by $\\frac{1}{\\sqrt{n}}$, where $n$ is the number of inputs to the layer.\n",
        "\n",
        "Weight initialization can be complex, especially because it requires an understanding of linear algebra to grasp how dimensions interact in dot products. This is beyond the current scope, but this approach helps in stabilizing the forward pass and ultimately contributes to more effective training of the neural network.\n",
        "\n",
        "### Feedforward\n",
        "The forward pass in this neural network primarily involves matrix multiplication, which in NumPy is performed with the dot operation. In detail, we multiply the weights by the activations of the previous layer and then apply the sigmoid activation function to the result.\n",
        "\n",
        "To propagate through each layer, we sequentially apply the dot operation, followed by the sigmoid activation function. In the final layer, we use the softmax function to generate probabilities for each class, allowing us to measure how well our current forward pass performs by comparing the predicted probabilities with the true class labels.\n",
        "\n",
        "\n",
        "### Backpropagation\n",
        "\n",
        "In this task, you'll implement backpropagation to update the weights and biases of a neural network based on the gradients of the loss function.\n",
        "\n",
        "1. **Calculate Output Layer Gradients**: Compute the error for the output layer by taking the difference between the network’s predictions and the actual labels. Use this to calculate the weight and bias gradients for the output layer.\n",
        "\n",
        "2. **Backpropagate to Hidden Layers**: Propagate the error from the output layer back to the hidden layer. This involves multiplying the output layer’s gradients by the weights of that layer, then adjusting for the activation function’s derivative.\n",
        "\n",
        "3. **Store and Return Gradients**: Organize the computed gradients for each layer’s weights and biases, so they’re ready for use in the parameter update step.\n",
        "\n",
        "This process should result in a dictionary of gradients for efficient optimization.\n",
        "\n",
        "### Training (Stochastic Gradient Descent)\n",
        "To train our neural network, we need a training loop that combines the forward and backward passes with an optimization step. Here, we’ll use Stochastic Gradient Descent (SGD) as the optimizer to update the network’s parameters.\n",
        "\n",
        "The training function consists of two main loops:\n",
        "\n",
        "1. **Epoch Loop**: This outer loop iterates through the dataset a set number of times (epochs).\n",
        "2. **Batch Loop**: For each epoch, this inner loop processes each batch of data individually.\n",
        "\n",
        "For each batch, the process includes:\n",
        "\n",
        "- **Forward Pass**: Call `self.feed_forward()` with `x`, a batch of input data (flattened into an array of length 784). The function returns `output`, the network's prediction.\n",
        "- **Backward Pass**: Using the `output` from the forward pass and the one-hot encoded ground truth labels `y`, the backward pass (`self.back_propagate()`) calculates the gradients for the weights.\n",
        "- **Optimization with SGD**: The `optimize()` function then updates the parameters based on the gradients using SGD, which adjusts each parameter directly in the direction of the calculated gradient.\n",
        "\n",
        "After each epoch, we can assess the network’s performance by calculating accuracy on a validation set. This provides a check on how well the model generalizes beyond the training data."
      ]
    },
    {
      "cell_type": "code",
      "execution_count": null,
      "metadata": {
        "id": "NrlFukTwusBc"
      },
      "outputs": [],
      "source": [
        "class DeepNeuralNetwork():\n",
        "    def __init__(self, sizes):\n",
        "        self.sizes = sizes\n",
        "\n",
        "        self.activation = self.sigmoid\n",
        "\n",
        "        # Initialize all the weights and biases\n",
        "        self.params = self.initialize()\n",
        "        # Save all intermediate values, i.e. activations\n",
        "        self.cache = {}\n",
        "\n",
        "    def sigmoid(self, x, derivative=False):\n",
        "\n",
        "        if derivative:\n",
        "            ### START CODE HERE ### (≈ 1 line of code)\n",
        "            # Calculate the derivative of the sigmoid function\n",
        "            return x * (1 - x)\n",
        "\n",
        "            ### END CODE HERE ###\n",
        "\n",
        "        ### START CODE HERE ### (≈ 1 line of code)\n",
        "        # Implement the forward pass of the sigmoid function\n",
        "\n",
        "        return 1 / (1 + np.exp(-x))\n",
        "\n",
        "        ### END CODE HERE ###\n",
        "\n",
        "    def softmax(self, x):\n",
        "\n",
        "        ### START CODE HERE ###\n",
        "        # Calculate softmax loss function\n",
        "        exp_x = np.exp(x - np.max(x, axis=1, keepdims=True))\n",
        "        return exp_x / exp_x.sum(axis=1, keepdims=True)\n",
        "\n",
        "\n",
        "        ### END CODE HERE ###\n",
        "\n",
        "    def initialize(self):\n",
        "        # number of nodes in each layer\n",
        "        input_layer=self.sizes[0]\n",
        "        hidden_layer_1=self.sizes[1]\n",
        "        hidden_layer_2=self.sizes[2]\n",
        "        output_layer=self.sizes[3]\n",
        "\n",
        "        params = {\n",
        "            \"W1\": np.random.randn(hidden_layer_1, input_layer) * np.sqrt(1./input_layer),\n",
        "            \"b1\": np.zeros((hidden_layer_1, 1)),\n",
        "            \"W2\": np.random.randn(hidden_layer_2, hidden_layer_1) * np.sqrt(1./hidden_layer_1),\n",
        "            \"b2\": np.zeros((hidden_layer_2, 1)),\n",
        "            \"W3\": np.random.randn(output_layer, hidden_layer_2) * np.sqrt(1./hidden_layer_2),\n",
        "            \"b3\": np.zeros((output_layer, 1))\n",
        "        }\n",
        "        return params\n",
        "\n",
        "    def feed_forward(self, x):\n",
        "\n",
        "        self.cache[\"X\"] = x\n",
        "        ### START CODE HERE ###\n",
        "        # Implement forward pass for each layer\n",
        "\n",
        "        self.cache[\"Z1\"] = np.dot(x, self.params[\"W1\"].T) + self.params[\"b1\"].T\n",
        "        self.cache[\"A1\"] = self.sigmoid(self.cache[\"Z1\"])\n",
        "        self.cache[\"Z2\"] = np.dot(self.cache[\"A1\"], self.params[\"W2\"].T) + self.params[\"b2\"].T\n",
        "        self.cache[\"A2\"] = self.sigmoid(self.cache[\"Z2\"])\n",
        "        self.cache[\"Z3\"] = np.dot(self.cache[\"A2\"], self.params[\"W3\"].T) + self.params[\"b3\"].T\n",
        "        self.cache[\"A3\"] = self.softmax(self.cache[\"Z3\"])\n",
        "\n",
        "        ### END CODE HERE ###\n",
        "\n",
        "        return self.cache[\"A3\"]\n",
        "\n",
        "    def back_propagate(self, y, output):\n",
        "\n",
        "        current_batch_size = y.shape[0]\n",
        "\n",
        "        ### START CODE HERE ###\n",
        "        # Calculate gradients for each layer's weights and biases\n",
        "\n",
        "        dZ3 = output - y\n",
        "        dW3 = np.dot(dZ3.T, self.cache[\"A2\"]) / current_batch_size\n",
        "        db3 = dZ3.sum(axis=0).reshape(-1, 1) / current_batch_size\n",
        "\n",
        "        dA2 = np.dot(dZ3, self.params[\"W3\"])\n",
        "        dZ2 = dA2 * self.sigmoid(self.cache[\"A2\"], derivative=True)\n",
        "        dW2 = np.dot(dZ2.T, self.cache[\"A1\"]) / current_batch_size\n",
        "        db2 = dZ2.sum(axis=0).reshape(-1, 1) / current_batch_size\n",
        "\n",
        "        dA1 = np.dot(dZ2, self.params[\"W2\"])\n",
        "        dZ1 = dA1 * self.sigmoid(self.cache[\"A1\"], derivative=True)\n",
        "        dW1 = np.dot(dZ1.T, self.cache[\"X\"]) / current_batch_size\n",
        "        db1 = dZ1.sum(axis=0).reshape(-1, 1) / current_batch_size\n",
        "\n",
        "        ### END CODE HERE ###\n",
        "\n",
        "        self.grads = {\"W1\": dW1, \"b1\": db1, \"W2\": dW2, \"b2\": db2, \"W3\": dW3, \"b3\": db3}\n",
        "        return self.grads\n",
        "\n",
        "    def cross_entropy_loss(self, y, output):\n",
        "\n",
        "        ### START CODE HERE ###\n",
        "        # Compute cross-entropy loss\n",
        "        return -np.sum(y * np.log(output)) / y.shape[0]\n",
        "\n",
        "        ### END CODE HERE ###\n",
        "\n",
        "    def optimize(self, l_rate=0.1):\n",
        "        ### START CODE HERE ### (≈ 3 lines of code)\n",
        "        # Update each parameter using the calculated gradients in self.grads\n",
        "        for param in self.params.keys():\n",
        "            self.params[param] -= l_rate * self.grads[param]\n",
        "\n",
        "        ### END CODE HERE ###\n",
        "\n",
        "    def accuracy(self, y, output):\n",
        "        ### START CODE HERE ###\n",
        "        # Calculate accuracy by comparing predictions to true labels\n",
        "        predictions = np.argmax(output, axis=1)\n",
        "        labels = np.argmax(y, axis=1)\n",
        "        return np.mean(predictions == labels)\n",
        "\n",
        "        ### END CODE HERE ###\n",
        "\n",
        "    def train(self, x_train, y_train, x_test, y_test, epochs=10,\n",
        "              batch_size=64, l_rate=0.1):\n",
        "        # Hyperparameters\n",
        "        self.epochs = epochs\n",
        "        self.batch_size = batch_size\n",
        "        num_batches = (x_train.shape[0] // self.batch_size)\n",
        "\n",
        "        start_time = time.time()\n",
        "        template = \"Epoch {}: {:.2f}s, train acc={:.2f}, train loss={:.2f}, test acc={:.2f}, test loss={:.2f}\"\n",
        "\n",
        "        # Train\n",
        "        for i in range(self.epochs):\n",
        "            # Shuffle\n",
        "            permutation = np.random.permutation(x_train.shape[0])\n",
        "            x_train_shuffled = x_train[permutation]\n",
        "            y_train_shuffled = y_train[permutation]\n",
        "\n",
        "            for j in range(num_batches):\n",
        "                # Batch\n",
        "                begin = j * self.batch_size\n",
        "                end = min(begin + self.batch_size, x_train.shape[0]-1)\n",
        "                x = x_train_shuffled[begin:end]\n",
        "                y = y_train_shuffled[begin:end]\n",
        "\n",
        "                ### START CODE HERE ### (≈ 3 lines of code)\n",
        "                # Implement forward pass, backpropagation, and optimization\n",
        "                # Implement forward pass\n",
        "                output = self.feed_forward(x)\n",
        "\n",
        "                # Backpropagation\n",
        "                self.back_propagate(y, output)\n",
        "\n",
        "                # Optimization\n",
        "                self.optimize(l_rate)\n",
        "\n",
        "\n",
        "                ### END CODE HERE ###\n",
        "\n",
        "\n",
        "            # Evaluate performance\n",
        "            # Training data\n",
        "            output = self.feed_forward(x_train)\n",
        "            train_acc = self.accuracy(y_train, output)\n",
        "            train_loss = self.cross_entropy_loss(y_train, output)\n",
        "            # Test data\n",
        "            output = self.feed_forward(x_test)\n",
        "            test_acc = self.accuracy(y_test, output)\n",
        "            test_loss = self.cross_entropy_loss(y_test, output)\n",
        "            print(template.format(i+1, time.time()-start_time, train_acc, train_loss, test_acc, test_loss))"
      ]
    },
    {
      "cell_type": "markdown",
      "metadata": {
        "id": "Ucn0HiMmusBd"
      },
      "source": [
        "### Results"
      ]
    },
    {
      "cell_type": "code",
      "execution_count": null,
      "metadata": {
        "colab": {
          "base_uri": "https://localhost:8080/"
        },
        "id": "aInL8B_KusBd",
        "outputId": "3c1a2812-5e7a-4195-cc35-bf67be17b654"
      },
      "outputs": [
        {
          "output_type": "stream",
          "name": "stdout",
          "text": [
            "Epoch 1: 3.33s, train acc=0.94, train loss=0.20, test acc=0.94, test loss=0.21\n",
            "Epoch 2: 5.25s, train acc=0.97, train loss=0.11, test acc=0.96, test loss=0.13\n",
            "Epoch 3: 7.03s, train acc=0.98, train loss=0.08, test acc=0.97, test loss=0.11\n",
            "Epoch 4: 8.85s, train acc=0.98, train loss=0.07, test acc=0.97, test loss=0.10\n",
            "Epoch 5: 10.88s, train acc=0.98, train loss=0.06, test acc=0.97, test loss=0.10\n",
            "Epoch 6: 14.46s, train acc=0.98, train loss=0.05, test acc=0.97, test loss=0.09\n",
            "Epoch 7: 18.12s, train acc=0.98, train loss=0.06, test acc=0.97, test loss=0.10\n",
            "Epoch 8: 21.85s, train acc=0.99, train loss=0.04, test acc=0.97, test loss=0.09\n",
            "Epoch 9: 25.26s, train acc=0.99, train loss=0.03, test acc=0.98, test loss=0.08\n",
            "Epoch 10: 28.89s, train acc=0.99, train loss=0.03, test acc=0.97, test loss=0.08\n"
          ]
        }
      ],
      "source": [
        "dnn = DeepNeuralNetwork(sizes=[784, 64, 32, 10])\n",
        "dnn.train(x_train, y_train, x_test, y_test, batch_size=128, l_rate=4)"
      ]
    },
    {
      "cell_type": "code",
      "source": [],
      "metadata": {
        "id": "DbJR4I0e4Rf0"
      },
      "execution_count": null,
      "outputs": []
    }
  ],
  "metadata": {
    "kernelspec": {
      "display_name": "Python 3",
      "language": "python",
      "name": "python3"
    },
    "language_info": {
      "codemirror_mode": {
        "name": "ipython",
        "version": 3
      },
      "file_extension": ".py",
      "mimetype": "text/x-python",
      "name": "python",
      "nbconvert_exporter": "python",
      "pygments_lexer": "ipython3",
      "version": "3.7.4"
    },
    "colab": {
      "provenance": []
    }
  },
  "nbformat": 4,
  "nbformat_minor": 0
}