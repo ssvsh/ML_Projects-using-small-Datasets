{
  "nbformat": 4,
  "nbformat_minor": 0,
  "metadata": {
    "colab": {
      "provenance": []
    },
    "kernelspec": {
      "name": "python3",
      "display_name": "Python 3"
    },
    "language_info": {
      "name": "python"
    }
  },
  "cells": [
    {
      "cell_type": "markdown",
      "metadata": {
        "id": "Yqd7cIdvW0bj"
      },
      "source": [
        "# Numpy Demo\n",
        "\n",
        "Source: https://becominghuman.ai/an-essential-guide-to-numpy-for-machine-learning-in-python-5615e1758301\n",
        "\n",
        "This demo only contains a subset of the tutorial above. Please try this demo and the whole tutorial above at home."
      ]
    },
    {
      "cell_type": "markdown",
      "metadata": {
        "id": "y0AHJKIsoXwp"
      },
      "source": [
        "### 1. Import the library\n",
        "\n",
        "First, we need to import the numpy library to use. Here `np` will be used as an abbreviation for `numpy`."
      ]
    },
    {
      "cell_type": "code",
      "metadata": {
        "id": "Xf_zBieKoVNA"
      },
      "source": [
        "import numpy as np"
      ],
      "execution_count": null,
      "outputs": []
    },
    {
      "cell_type": "markdown",
      "metadata": {
        "id": "hjqc4URun-kB"
      },
      "source": [
        "### 2. Create a vector"
      ]
    },
    {
      "cell_type": "code",
      "metadata": {
        "id": "ecHxwhFYoB5x",
        "colab": {
          "base_uri": "https://localhost:8080/"
        },
        "outputId": "65a79a0f-6ab1-42aa-8ee4-53d102f28d1a"
      },
      "source": [
        "# Create a row vector from a list\n",
        "vector_row = np.array([1,2,3])\n",
        "\n",
        "# Create a column vector from a list of lists\n",
        "vector_column = np.array([[1],[2],[3]])\n",
        "\n",
        "print(vector_row)\n",
        "print(vector_column)"
      ],
      "execution_count": null,
      "outputs": [
        {
          "output_type": "stream",
          "name": "stdout",
          "text": [
            "[1 2 3]\n",
            "[[1]\n",
            " [2]\n",
            " [3]]\n"
          ]
        }
      ]
    },
    {
      "cell_type": "markdown",
      "metadata": {
        "id": "jS6X3UDvo7J4"
      },
      "source": [
        "### 3. Create a matrix"
      ]
    },
    {
      "cell_type": "code",
      "metadata": {
        "id": "syQcuNoYo0aZ",
        "colab": {
          "base_uri": "https://localhost:8080/"
        },
        "outputId": "5871fb94-8645-4e81-b849-4efbac82c5cb"
      },
      "source": [
        "# Create a matrix from a list of lists\n",
        "matrix = np.array([[1, 2, 3],\n",
        "                   [4, 5, 6]])\n",
        "\n",
        "print(matrix)"
      ],
      "execution_count": null,
      "outputs": [
        {
          "output_type": "stream",
          "name": "stdout",
          "text": [
            "[[1 2 3]\n",
            " [4 5 6]]\n"
          ]
        }
      ]
    },
    {
      "cell_type": "markdown",
      "metadata": {
        "id": "R3_tPIu6pSJQ"
      },
      "source": [
        "### 4. Select elements"
      ]
    },
    {
      "cell_type": "code",
      "metadata": {
        "id": "lDH1IbLvpW5B",
        "colab": {
          "base_uri": "https://localhost:8080/"
        },
        "outputId": "5a3baa02-07b1-460f-a1c3-0bfe5f3add9a"
      },
      "source": [
        "# Print 2nd element of vector_row\n",
        "print(vector_row[1])\n",
        "\n",
        "# Print 3rd column of vector_column\n",
        "print(vector_column[2])\n",
        "\n",
        "# Print element at 1st row, 3rd column of matrix\n",
        "print(matrix[0,2])\n",
        "\n",
        "# Print sub-matrix with 2nd row and first two columns\n",
        "print(matrix[1:,:2])"
      ],
      "execution_count": null,
      "outputs": [
        {
          "output_type": "stream",
          "name": "stdout",
          "text": [
            "2\n",
            "[3]\n",
            "3\n",
            "[[4 5]]\n"
          ]
        }
      ]
    },
    {
      "cell_type": "markdown",
      "metadata": {
        "id": "p4fTAvUDrMI1"
      },
      "source": [
        "### 5. Properties of a matrix"
      ]
    },
    {
      "cell_type": "code",
      "metadata": {
        "id": "7w_IoAaprSWE",
        "colab": {
          "base_uri": "https://localhost:8080/"
        },
        "outputId": "4ad6a424-a105-4daf-9163-02fd56ad6bc7"
      },
      "source": [
        "matrix = np.array([[1, 2, 3, 10],\n",
        "                   [4, 5, 6, 11],\n",
        "                   [7, 8, 9, 12]])\n",
        "\n",
        "# Print number of rows and columns\n",
        "print(matrix.shape)\n",
        "\n",
        "# Print number of rows and columns separately\n",
        "print(matrix.shape[0])\n",
        "print(matrix.shape[1])\n",
        "\n",
        "# Print number of elements\n",
        "print(matrix.size)\n",
        "\n",
        "# Print number of dimensions\n",
        "print(matrix.ndim)"
      ],
      "execution_count": null,
      "outputs": [
        {
          "output_type": "stream",
          "name": "stdout",
          "text": [
            "(3, 4)\n",
            "3\n",
            "4\n",
            "12\n",
            "2\n"
          ]
        }
      ]
    },
    {
      "cell_type": "markdown",
      "metadata": {
        "id": "MpzVHtk4sBvT"
      },
      "source": [
        "### 6. Modifying a matrix"
      ]
    },
    {
      "cell_type": "code",
      "metadata": {
        "id": "bb-2lFYvsZZj",
        "colab": {
          "base_uri": "https://localhost:8080/"
        },
        "outputId": "b94b7286-df19-42e4-ee6e-f3a6338e8b2e"
      },
      "source": [
        "matrix = np.array([[1, 2, 3, 10],\n",
        "                   [4, 5, 6, 11],\n",
        "                   [7, 8, 9, 12]])\n",
        "\n",
        "matrix[0, 3] = 20\n",
        "print(matrix)\n",
        "\n",
        "matrix += 5\n",
        "print(matrix)\n",
        "\n",
        "matrix = matrix / 2\n",
        "print(matrix)\n",
        "\n",
        "matrix[1] = matrix[0]*2\n",
        "print(matrix)"
      ],
      "execution_count": null,
      "outputs": [
        {
          "output_type": "stream",
          "name": "stdout",
          "text": [
            "[[ 1  2  3 20]\n",
            " [ 4  5  6 11]\n",
            " [ 7  8  9 12]]\n",
            "[[ 6  7  8 25]\n",
            " [ 9 10 11 16]\n",
            " [12 13 14 17]]\n",
            "[[ 3.   3.5  4.  12.5]\n",
            " [ 4.5  5.   5.5  8. ]\n",
            " [ 6.   6.5  7.   8.5]]\n",
            "[[ 3.   3.5  4.  12.5]\n",
            " [ 6.   7.   8.  25. ]\n",
            " [ 6.   6.5  7.   8.5]]\n"
          ]
        }
      ]
    },
    {
      "cell_type": "markdown",
      "metadata": {
        "id": "vJmoIxvqtvf5"
      },
      "source": [
        "### 7. Find min and max elements"
      ]
    },
    {
      "cell_type": "code",
      "metadata": {
        "id": "BzAF7CVltOwC",
        "colab": {
          "base_uri": "https://localhost:8080/"
        },
        "outputId": "727f439e-00b9-4fbf-d9d4-07014ae521a1"
      },
      "source": [
        "matrix = np.array([[1, 2, 3, 10],\n",
        "                   [4, 5, 6, 11],\n",
        "                   [7, 8, 9, 12]])\n",
        "\n",
        "# Print max and min elements\n",
        "print(np.max(matrix))\n",
        "print(np.min(matrix))\n",
        "\n",
        "# Print max element in each column\n",
        "print(np.max(matrix, axis=0))\n",
        "\n",
        "# Print min element in each row\n",
        "print(np.min(matrix, axis=1))"
      ],
      "execution_count": null,
      "outputs": [
        {
          "output_type": "stream",
          "name": "stdout",
          "text": [
            "12\n",
            "1\n",
            "[ 7  8  9 12]\n",
            "[1 4 7]\n"
          ]
        }
      ]
    },
    {
      "cell_type": "markdown",
      "metadata": {
        "id": "D8X16krNuT0h"
      },
      "source": [
        "### 8. Reshape and transpose"
      ]
    },
    {
      "cell_type": "code",
      "metadata": {
        "id": "zKX2Fb1huKWA",
        "colab": {
          "base_uri": "https://localhost:8080/"
        },
        "outputId": "68de41c7-ef2b-4480-9b5b-f99ac525537a"
      },
      "source": [
        "# Create a vector\n",
        "vector = np.arange(12)\n",
        "print(vector)\n",
        "\n",
        "# Reshape the vector into a matrix\n",
        "matrix = vector.reshape(4, 3)\n",
        "print(matrix)\n",
        "\n",
        "# Transpose the matrix\n",
        "matrix = np.transpose(matrix)\n",
        "print(matrix)\n",
        "\n",
        "# Flatten the new matrix\n",
        "print(matrix.flatten())"
      ],
      "execution_count": null,
      "outputs": [
        {
          "output_type": "stream",
          "name": "stdout",
          "text": [
            "[ 0  1  2  3  4  5  6  7  8  9 10 11]\n",
            "[[ 0  1  2]\n",
            " [ 3  4  5]\n",
            " [ 6  7  8]\n",
            " [ 9 10 11]]\n",
            "[[ 0  3  6  9]\n",
            " [ 1  4  7 10]\n",
            " [ 2  5  8 11]]\n",
            "[ 0  3  6  9  1  4  7 10  2  5  8 11]\n"
          ]
        }
      ]
    },
    {
      "cell_type": "markdown",
      "metadata": {
        "id": "TFioTT9xwDiW"
      },
      "source": [
        "### 9. Matrix operations"
      ]
    },
    {
      "cell_type": "code",
      "metadata": {
        "id": "UxrRnxz8vlW2",
        "colab": {
          "base_uri": "https://localhost:8080/"
        },
        "outputId": "123bf859-357d-4922-8fca-edad78e937cf"
      },
      "source": [
        "m1 = np.array([[1, 2, 3],\n",
        "               [4, 5, 6],\n",
        "               [7, 8, 9]])\n",
        "m2 = np.array([[7, 8, 9],\n",
        "               [4, 5, 6],\n",
        "               [1, 2, 3]])\n",
        "\n",
        "# Element-wise sum, subtraction, multiplication\n",
        "print(m1+m2)\n",
        "print(m1-m2)\n",
        "print(m1*m2)\n",
        "\n",
        "# Matrix multiplication\n",
        "print(np.matmul(m1, m2))"
      ],
      "execution_count": null,
      "outputs": [
        {
          "output_type": "stream",
          "name": "stdout",
          "text": [
            "[[ 8 10 12]\n",
            " [ 8 10 12]\n",
            " [ 8 10 12]]\n",
            "[[-6 -6 -6]\n",
            " [ 0  0  0]\n",
            " [ 6  6  6]]\n",
            "[[ 7 16 27]\n",
            " [16 25 36]\n",
            " [ 7 16 27]]\n",
            "[[ 18  24  30]\n",
            " [ 54  69  84]\n",
            " [ 90 114 138]]\n"
          ]
        }
      ]
    },
    {
      "cell_type": "markdown",
      "metadata": {
        "id": "aD-NfHMDwtWd"
      },
      "source": [
        "### 10. Random number generator"
      ]
    },
    {
      "cell_type": "code",
      "metadata": {
        "id": "BwgjG1iswyDk",
        "colab": {
          "base_uri": "https://localhost:8080/"
        },
        "outputId": "c5a957a2-b6f4-4342-924a-d90774535b2c"
      },
      "source": [
        "# Generate random integers uniformly from low to high-1\n",
        "low = 1\n",
        "high = 10\n",
        "print(np.random.randint(low, high))\n",
        "print(np.random.randint(low, high))\n",
        "print(np.random.randint(low, high))\n",
        "print(np.random.randint(low, high))"
      ],
      "execution_count": null,
      "outputs": [
        {
          "output_type": "stream",
          "name": "stdout",
          "text": [
            "0\n",
            "1\n",
            "1\n",
            "1\n",
            "0\n",
            "2\n",
            "3\n",
            "0\n",
            "1\n",
            "8\n",
            "8\n",
            "2\n",
            "3\n"
          ]
        }
      ]
    },
    {
      "cell_type": "code",
      "metadata": {
        "id": "uhiNjjawxZFO"
      },
      "source": [
        "# Generate random samples from a normal distribution with given mean and standard deviation\n",
        "m = 2\n",
        "std = 0.5\n",
        "\n",
        "print(np.random.normal(m, std))\n",
        "print(np.random.normal(m, std))\n",
        "print(np.random.normal(m, std))"
      ],
      "execution_count": null,
      "outputs": []
    }
  ]
}