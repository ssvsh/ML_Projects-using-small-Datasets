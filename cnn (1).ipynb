{
  "cells": [
    {
      "cell_type": "markdown",
      "metadata": {
        "id": "23YlAVxB8qiq"
      },
      "source": [
        "# Convolutional Neural Networks\n",
        "This assignment aims to implement a CNN using the PyTorch deep learning framework.\n"
      ]
    },
    {
      "cell_type": "markdown",
      "metadata": {
        "id": "WmbqJ_71BPva"
      },
      "source": [
        "You will learn how to prepare the data, define the model, train and test your model.\n",
        "\n",
        "**Note**:\n",
        "- If you do not have sufficient computational power (i.e., no access to GPU), please use Google Collab for this assignment. It is a fairly easy to use Jupyter Notebook. Before running your code on Collab, go to ``Runtime`` $\\rightarrow$ ``Change runtime type``, choose **GPU** on the dropdown menu and ``Save``.\n",
        "\n",
        "**Overview:**\n",
        "- Data Processing:\n",
        "    - Data Normalization/Standardization\n",
        "    - Data Augmentation\n",
        "- Architectures:\n",
        "    - Design and train a CNN model\n",
        "    - **[LeNet](https://www.wikiwand.com/en/LeNet)** and **[AlexNet](https://papers.nips.cc/paper/4824-imagenet-classification-with-deep-convolutional-neural-networks.pdf)** are recommended as references.\n",
        "    - Other architectures, i.e. ResNet, VGG, Inception are also suggested (but may require more computational expense).\n",
        "    - Regularization\n",
        "        - Dropout\n",
        "        - L2 Norm\n",
        "        - etc.\n",
        "- Hyperparameter tuning:\n",
        "    - Learning rate:\n",
        "        - Try at least **three different** learning rates.\n",
        "    - Optimizer:\n",
        "        - Try at least **three different** optimizers, e.g. *SGD, RMSprop, Adam* and *etc*."
      ]
    },
    {
      "cell_type": "markdown",
      "metadata": {
        "id": "rOUv2iVgKOVy"
      },
      "source": [
        "## 1 - Packages\n",
        "Import the necessary packages"
      ]
    },
    {
      "cell_type": "code",
      "execution_count": null,
      "metadata": {
        "id": "L_wRiN1CgMj-"
      },
      "outputs": [],
      "source": [
        "import torch\n",
        "import torch.nn as nn\n",
        "import torch.optim as optim\n",
        "import torch.nn.functional as F\n",
        "import torch.backends.cudnn as cudnn\n",
        "\n",
        "import torchvision\n",
        "import torchvision.transforms as transforms\n",
        "\n",
        "import os\n",
        "import matplotlib.pyplot as plt\n",
        "%matplotlib inline"
      ]
    },
    {
      "cell_type": "markdown",
      "metadata": {
        "id": "TaYv484xKTc6"
      },
      "source": [
        "## 2 - Training Parameters\n",
        "Define some hyper-parameters for the training process. Try changing these hyper-parameters and observe the performance of the model."
      ]
    },
    {
      "cell_type": "code",
      "execution_count": null,
      "metadata": {
        "id": "bjCYgCosKI70"
      },
      "outputs": [],
      "source": [
        "device = 'cuda' if torch.cuda.is_available() else 'cpu' # using gpu or cpu\n",
        "best_acc = 0  # best test accuracy\n",
        "start_epoch = 0  # start from epoch 0 or last checkpoint epoch\n",
        "num_classes = 10 # number of classes\n",
        "batch_size = 100\n",
        "num_epochs = 20 # to get a better result, you can increase the number of epochs\n",
        "\n",
        "learning_rate = 0.001 # suggested range [1e-2, 1e-4]\n"
      ]
    },
    {
      "cell_type": "markdown",
      "metadata": {
        "id": "86oNQMaeLaio"
      },
      "source": [
        "## 3 - Data Loader and Augmentation\n",
        "We will use [CIFAR-10](https://www.cs.toronto.edu/~kriz/cifar.html) as our dataset. Pytorch provide functions to download this dataset, you don't have to do download it from the official website. In this section, you will become familiar with the data loading pipeline of PyTorch.\n",
        "\n",
        "- Normalize all the images to help remove gross bias within the data and to place us numerically within a known range for any input data.\n",
        "\n",
        "- Implement data augmentations for the training see (see more [here](https://pytorch.org/vision/stable/transforms.html)):\n",
        "    - RandomCrop, RandomHorizontalFlip, RandomRotation, etc.\n",
        "    \n",
        "- More info [here](https://pytorch.org/tutorials/beginner/basics/data_tutorial.html)."
      ]
    },
    {
      "cell_type": "code",
      "execution_count": null,
      "metadata": {
        "colab": {
          "base_uri": "https://localhost:8080/"
        },
        "id": "tj3MlIbSKC7q",
        "outputId": "7cfbb9e5-de25-4297-86a8-f1bd4863ec58",
        "scrolled": false
      },
      "outputs": [
        {
          "output_type": "stream",
          "name": "stdout",
          "text": [
            "Files already downloaded and verified\n",
            "Files already downloaded and verified\n"
          ]
        }
      ],
      "source": [
        "# Data augmentation\n",
        "transform_train = transforms.Compose([\n",
        "    ### START CODE HERE ### (≈ 3 lines of code)\n",
        "    # Fill in data augmentations\n",
        "    transforms.RandomCrop(32, padding=4),\n",
        "    transforms.RandomHorizontalFlip(),\n",
        "    transforms.RandomRotation(15),\n",
        "    ### END CODE HERE ###\n",
        "    transforms.ToTensor(),\n",
        "    transforms.Normalize((0.4914, 0.4822, 0.4465), (0.2023, 0.1994, 0.2010)),\n",
        "])\n",
        "\n",
        "# Don't augment the test set\n",
        "transform_test = transforms.Compose([\n",
        "    transforms.ToTensor(),\n",
        "    transforms.Normalize((0.4914, 0.4822, 0.4465), (0.2023, 0.1994, 0.2010)),\n",
        "])\n",
        "\n",
        "trainset = torchvision.datasets.CIFAR10(\n",
        "    root='./data', train=True, download=True, transform=transform_train)\n",
        "trainloader = torch.utils.data.DataLoader(\n",
        "    trainset, batch_size=batch_size, shuffle=True, num_workers=2)\n",
        "\n",
        "testset = torchvision.datasets.CIFAR10(\n",
        "    root='./data', train=False, download=True, transform=transform_test)\n",
        "testloader = torch.utils.data.DataLoader(\n",
        "    testset, batch_size=batch_size, shuffle=False, num_workers=2)\n"
      ]
    },
    {
      "cell_type": "markdown",
      "metadata": {
        "id": "KQoR6nWkMHFg"
      },
      "source": [
        "## 4 - Define the Networks\n",
        "This section defines the architecture of the network. We provide the output dimension of each layer's output. Use this information to define the appropriate convolutional, max pooling and fully-connected (linear) layers in PyTorch with the code skeleton provided below. There might be multiple solutions to achieve the specified dimensions; it is required that the number of parameters in the network cannot exceed 3 million. We provide a code segment for you to check the number of parameters below. Here, m denotes the batch size. The forward pass is also defined.\n",
        "\n",
        "- Input: (m, 3, 32, 32)\n",
        "- After ``conv1``: (m, 64, 16, 16)\n",
        "- After ``maxpool1``: (m, 64, 8, 8)\n",
        "- After ``conv2``: (m, 192, 8, 8)\n",
        "- After ``maxpool2``: (m, 192, 4, 4)\n",
        "- After ``conv3``: (m, 384, 4, 4)\n",
        "- After ``maxpool3``: (m, 384, 2, 2)\n",
        "- After ``conv4``: (m, 256, 2, 2)\n",
        "- After ``maxpool4``: (m, 256, 1, 1)\n",
        "- After ``fc1``: (m, 512)\n",
        "- After ``fc2``: (m, 512)\n",
        "- After ``fc3`` (Output): (m, 10)"
      ]
    },
    {
      "cell_type": "code",
      "execution_count": null,
      "metadata": {
        "id": "yHKgjIK5DZtA"
      },
      "outputs": [],
      "source": [
        "class Model(nn.Module):\n",
        "    def __init__(self, num_classes=10):\n",
        "        super(Model, self).__init__()\n",
        "\n",
        "        self.conv1 = nn.Conv2d(3, 64, kernel_size=3, stride=1, padding=1)\n",
        "        self.maxpool1 = nn.MaxPool2d(kernel_size=2, stride=2)\n",
        "        self.conv2 = nn.Conv2d(64, 192, kernel_size=3, padding=1)\n",
        "        self.maxpool2 = nn.MaxPool2d(kernel_size=2, stride=2)\n",
        "        self.conv3 = nn.Conv2d(192, 384, kernel_size=3, padding=1)\n",
        "        self.maxpool3 = nn.MaxPool2d(kernel_size=2, stride=2)\n",
        "        self.conv4 = nn.Conv2d(384, 256, kernel_size=3, padding=1)\n",
        "        self.maxpool4 = nn.MaxPool2d(kernel_size=2, stride=2)\n",
        "        self.fc1 = nn.Linear(1024, 512)\n",
        "        self.fc2 = nn.Linear(512, 512)\n",
        "        self.fc3 = nn.Linear(512, num_classes)\n",
        "\n",
        "    def observe_outputs(self, x): # used to observe the dimension of each layer's output\n",
        "\n",
        "        ### START CODE HERE ###\n",
        "        # Print the size of each layer's output\n",
        "        print(\"Input shape:\", x.shape)\n",
        "        x = self.maxpool1(F.relu(self.conv1(x)))\n",
        "        print(\"After conv1 & maxpool1:\", x.shape)\n",
        "        x = self.maxpool2(F.relu(self.conv2(x)))\n",
        "        print(\"After conv2 & maxpool2:\", x.shape)\n",
        "        x = self.maxpool3(F.relu(self.conv3(x)))\n",
        "        print(\"After conv3 & maxpool3:\", x.shape)\n",
        "        x = self.maxpool4(F.relu(self.conv4(x)))\n",
        "        print(\"After conv4 & maxpool4:\", x.shape)\n",
        "        x = x.view(x.size(0), -1)\n",
        "        print(\"After flatten:\", x.shape)\n",
        "        x = F.relu(self.fc1(x))\n",
        "        print(\"After fc1:\", x.shape)\n",
        "        x = F.relu(self.fc2(x))\n",
        "        print(\"After fc2:\", x.shape)\n",
        "        x = self.fc3(x)\n",
        "        print(\"After fc3 (Output):\", x.shape)\n",
        "\n",
        "        ### END CODE HERE ###\n",
        "\n",
        "        return x\n",
        "\n",
        "    def forward(self, x):\n",
        "\n",
        "        ### START CODE HERE ###\n",
        "        # Implement forward pass for each layer\n",
        "        x = self.maxpool1(F.relu(self.conv1(x)))\n",
        "        x = self.maxpool2(F.relu(self.conv2(x)))\n",
        "        x = self.maxpool3(F.relu(self.conv3(x)))\n",
        "        x = self.maxpool4(F.relu(self.conv4(x)))\n",
        "        x = x.view(x.size(0), -1)  # Flatten\n",
        "        x = F.relu(self.fc1(x))\n",
        "        x = F.relu(self.fc2(x))\n",
        "        x = self.fc3(x)\n",
        "\n",
        "        ### END CODE HERE ###\n",
        "\n",
        "        return x\n"
      ]
    },
    {
      "cell_type": "markdown",
      "metadata": {
        "id": "JefVPYkDav0X"
      },
      "source": [
        "Run the block of code below to confirm each layer's output dimension matches the requirements."
      ]
    },
    {
      "cell_type": "code",
      "execution_count": null,
      "metadata": {
        "colab": {
          "base_uri": "https://localhost:8080/"
        },
        "id": "hPQhyl-6av0X",
        "outputId": "bf3a03ad-4236-445b-c625-140f32def5aa"
      },
      "outputs": [
        {
          "output_type": "stream",
          "name": "stdout",
          "text": [
            "Input shape: torch.Size([16, 3, 32, 32])\n",
            "After conv1 & maxpool1: torch.Size([16, 64, 16, 16])\n",
            "After conv2 & maxpool2: torch.Size([16, 192, 8, 8])\n",
            "After conv3 & maxpool3: torch.Size([16, 384, 4, 4])\n",
            "After conv4 & maxpool4: torch.Size([16, 256, 2, 2])\n",
            "After flatten: torch.Size([16, 1024])\n",
            "After fc1: torch.Size([16, 512])\n",
            "After fc2: torch.Size([16, 512])\n",
            "After fc3 (Output): torch.Size([16, 10])\n"
          ]
        }
      ],
      "source": [
        "def test_forward(): # This function displays each layer's output dimension\n",
        "    model = Model().to(device)\n",
        "    x = torch.randn(16, 3, 32, 32).to(device)\n",
        "    with torch.no_grad():\n",
        "        model.observe_outputs(x)\n",
        "\n",
        "test_forward()\n"
      ]
    },
    {
      "cell_type": "markdown",
      "metadata": {
        "id": "bCISiwDJav0X"
      },
      "source": [
        "Run the block of code below to confirm your network has fewer than 30 millions parameters."
      ]
    },
    {
      "cell_type": "code",
      "execution_count": null,
      "metadata": {
        "colab": {
          "base_uri": "https://localhost:8080/"
        },
        "id": "BomT8aHCav0Y",
        "outputId": "2b4aed73-8fb5-4ebc-ad1b-37e694f08ba7"
      },
      "outputs": [
        {
          "output_type": "stream",
          "name": "stdout",
          "text": [
            "Total number of parameters: 2454090\n"
          ]
        }
      ],
      "source": [
        "def count_parameters(net, all=True):\n",
        "    # If all == False, we only return the trainable parameters\n",
        "    return sum(p.numel() for p in net.parameters() if p.requires_grad or all)\n",
        "\n",
        "num_params = count_parameters(Model())\n",
        "print(f'Total number of parameters: {num_params}')\n"
      ]
    },
    {
      "cell_type": "markdown",
      "metadata": {
        "id": "m5l4sgkrNDxp"
      },
      "source": [
        "## 5 - Loss and Optimizer\n",
        "This section initializes the ``Model`` class, and defines the loss function and optimizer. We are doing multi-class classification, so we use the cross-entropy loss. The standard optimizers are Stochastic Gradient Descent (SGD) and Adam. You can find more optimizers [here](https://pytorch.org/docs/stable/optim.html?highlight=optimizer#torch.optim.Optimizer)."
      ]
    },
    {
      "cell_type": "code",
      "execution_count": null,
      "metadata": {
        "id": "CXdJiurPNC5d"
      },
      "outputs": [],
      "source": [
        "# initialize the model and send it to GPU using torch.Tensor.to()\n",
        "model = Model().to(device)\n",
        "\n",
        "# initialize cross-entropy loss\n",
        "criterion = nn.CrossEntropyLoss()\n",
        "\n",
        "# initialize Adam optimizer\n",
        "optimizer = optim.Adam(model.parameters(), lr=learning_rate)\n"
      ]
    },
    {
      "cell_type": "markdown",
      "metadata": {
        "id": "aPIw1D4qN4Xx"
      },
      "source": [
        "## 6 - Define the Training Loop\n",
        "This section will learn how to train the model: get batches, calculate loss, and update model.\n",
        "\n",
        "A standard PyTorch training loop consists of:\n",
        "\n",
        "- Getting the prediction for each batch.\n",
        "- Calculate the loss on the prediction versus the true label (ground truth).\n",
        "- Calculate the gradients.\n",
        "- Update the model's weights/parameters using the optimizer and the gradients computed in the previous step.\n",
        "\n",
        "Also, do not forget to (optional):\n",
        "\n",
        "- Keep track of the loss values to plot the training loss later\n",
        "- Clear out the old gradients in the optimizer every iteration before calculating the new ones.\n",
        "- Frequently print out the accuracy of the model to see if the learning is on the right track.\n",
        "\n",
        "Please fill in the missing codes."
      ]
    },
    {
      "cell_type": "code",
      "execution_count": null,
      "metadata": {
        "id": "h64MnTPegpZ3"
      },
      "outputs": [],
      "source": [
        "# Train the model\n",
        "def train(epoch):\n",
        "    print('\\nEpoch: %d' % epoch)\n",
        "    train_losses = [] # needed for visualize the traning loss\n",
        "    model.train()\n",
        "    train_loss = 0\n",
        "    correct = 0\n",
        "    total = 0\n",
        "    for batch_idx, (inputs, targets) in enumerate(trainloader):\n",
        "        inputs, targets = inputs.to(device), targets.to(device)# get a batch\n",
        "        ### START CODE HERE ### (≈ 5 lines of code)\n",
        "        # Clear gradient\n",
        "        optimizer.zero_grad()\n",
        "        # Forward pass batch through model\n",
        "        outputs = model(inputs)\n",
        "        # Calculate loss on batch\n",
        "        loss = criterion(outputs, targets)\n",
        "        # Calculate gradients for backward pass\n",
        "        loss.backward()\n",
        "        # Update model\n",
        "        optimizer.step()\n",
        "        ### END CODE HERE ###\n",
        "\n",
        "        train_loss += loss.item()\n",
        "        train_losses.append(loss.item())\n",
        "        _, predicted = outputs.max(1)\n",
        "        total += targets.size(0)\n",
        "        correct += predicted.eq(targets).sum().item()\n",
        "        if batch_idx % 100 == 0: # print every 100 iterations\n",
        "            print(batch_idx, len(trainloader), 'Train Loss: %.3f | Acc: %.3f%% (%d/%d)'\n",
        "                     % (train_loss/(batch_idx+1), 100.*correct/total, correct, total))\n",
        "    return train_losses\n"
      ]
    },
    {
      "cell_type": "markdown",
      "metadata": {
        "id": "xUs0iY2lOgIr"
      },
      "source": [
        "## 7 - Define the Testing Loop\n",
        "This section will learn how to test the trained model and save the best model.\n",
        "\n",
        "A standard PyTorch testing loop consists of:\n",
        "\n",
        "- Getting the predictions and calculate the accuracy over the whole testing set.\n",
        "\n",
        "Do not forget to:\n",
        "\n",
        "- Disable the gradients on the model upon making predictions (i.e., ``torch.no_grad()``).\n",
        "- Save the best model's weights ([reference](https://pytorch.org/tutorials/beginner/saving_loading_models.html)).\n",
        "\n",
        "Please fill in the missing codes."
      ]
    },
    {
      "cell_type": "code",
      "execution_count": null,
      "metadata": {
        "id": "x3zSGrGcmqec"
      },
      "outputs": [],
      "source": [
        "def test(epoch):\n",
        "    global best_acc\n",
        "    test_losses = []\n",
        "    model.eval()\n",
        "    test_loss = 0\n",
        "    correct = 0\n",
        "    total = 0\n",
        "    with torch.no_grad():\n",
        "        for batch_idx, (inputs, targets) in enumerate(testloader):\n",
        "            inputs, targets = inputs.to(device), targets.to(device)\n",
        "            ### START CODE HERE ### (≈ 2 lines of code)\n",
        "            # Forward pass batch through model\n",
        "            outputs = model(inputs)\n",
        "            # Calculate loss on batch\n",
        "            loss = criterion(outputs, targets)\n",
        "\n",
        "            test_loss += loss.item()\n",
        "            test_losses.append(loss.item())\n",
        "            _, predicted = outputs.max(1)\n",
        "            total += targets.size(0)\n",
        "            correct += predicted.eq(targets).sum().item()\n",
        "            if batch_idx % 100 == 0:\n",
        "                print(batch_idx, len(testloader), 'Testing Loss: %.3f | Acc: %.3f%% (%d/%d)'\n",
        "                            % (test_loss/(batch_idx+1), 100.*correct/total, correct, total))\n",
        "\n",
        "    # Save best model.\n",
        "    acc = 100.*correct/total\n",
        "    print('Test Accuracy of the model on the 10000 test images: {} %'.format(acc))\n",
        "    if acc > best_acc:\n",
        "        print('Start Saving..')\n",
        "        state = {\n",
        "            'net': model.state_dict(),\n",
        "            'acc': acc,\n",
        "            'epoch': epoch,\n",
        "        }\n",
        "        if not os.path.isdir('checkpoint'):\n",
        "            os.mkdir('checkpoint')\n",
        "        torch.save(state, './checkpoint/ckpt.pth')\n",
        "        best_acc = acc\n",
        "        print('Done Saving!')\n",
        "    return test_losses\n"
      ]
    },
    {
      "cell_type": "markdown",
      "metadata": {
        "id": "R6SLs3zROkl1"
      },
      "source": [
        "## 8 - Model Training and Testing\n",
        "\n",
        "Run the training and testing loops to conduct the training process."
      ]
    },
    {
      "cell_type": "code",
      "execution_count": null,
      "metadata": {
        "colab": {
          "base_uri": "https://localhost:8080/"
        },
        "id": "Ny1ShAijmvcw",
        "outputId": "875c2b73-c015-473a-9b70-61d9e7d3787e",
        "scrolled": true
      },
      "outputs": [
        {
          "output_type": "stream",
          "name": "stdout",
          "text": [
            "\n",
            "Epoch: 0\n",
            "0 500 Train Loss: 2.304 | Acc: 9.000% (9/100)\n",
            "100 500 Train Loss: 2.005 | Acc: 23.584% (2382/10100)\n",
            "200 500 Train Loss: 1.866 | Acc: 29.109% (5851/20100)\n",
            "300 500 Train Loss: 1.776 | Acc: 32.834% (9883/30100)\n",
            "400 500 Train Loss: 1.701 | Acc: 35.968% (14423/40100)\n",
            "0 100 Testing Loss: 1.371 | Acc: 54.000% (54/100)\n",
            "Test Accuracy of the model on the 10000 test images: 50.95 %\n",
            "Start Saving..\n",
            "Done Saving!\n",
            "\n",
            "Epoch: 1\n",
            "0 500 Train Loss: 1.317 | Acc: 53.000% (53/100)\n",
            "100 500 Train Loss: 1.324 | Acc: 52.257% (5278/10100)\n",
            "200 500 Train Loss: 1.299 | Acc: 52.935% (10640/20100)\n",
            "300 500 Train Loss: 1.270 | Acc: 53.990% (16251/30100)\n",
            "400 500 Train Loss: 1.250 | Acc: 54.751% (21955/40100)\n",
            "0 100 Testing Loss: 1.015 | Acc: 63.000% (63/100)\n",
            "Test Accuracy of the model on the 10000 test images: 61.77 %\n",
            "Start Saving..\n",
            "Done Saving!\n",
            "\n",
            "Epoch: 2\n",
            "0 500 Train Loss: 1.036 | Acc: 62.000% (62/100)\n",
            "100 500 Train Loss: 1.110 | Acc: 60.050% (6065/10100)\n",
            "200 500 Train Loss: 1.090 | Acc: 61.085% (12278/20100)\n",
            "300 500 Train Loss: 1.074 | Acc: 61.661% (18560/30100)\n",
            "400 500 Train Loss: 1.060 | Acc: 62.347% (25001/40100)\n",
            "0 100 Testing Loss: 0.812 | Acc: 73.000% (73/100)\n",
            "Test Accuracy of the model on the 10000 test images: 67.6 %\n",
            "Start Saving..\n",
            "Done Saving!\n",
            "\n",
            "Epoch: 3\n",
            "0 500 Train Loss: 0.953 | Acc: 64.000% (64/100)\n",
            "100 500 Train Loss: 0.953 | Acc: 66.139% (6680/10100)\n",
            "200 500 Train Loss: 0.950 | Acc: 66.408% (13348/20100)\n",
            "300 500 Train Loss: 0.941 | Acc: 66.850% (20122/30100)\n",
            "400 500 Train Loss: 0.939 | Acc: 66.823% (26796/40100)\n",
            "0 100 Testing Loss: 0.824 | Acc: 76.000% (76/100)\n",
            "Test Accuracy of the model on the 10000 test images: 71.35 %\n",
            "Start Saving..\n",
            "Done Saving!\n",
            "\n",
            "Epoch: 4\n",
            "0 500 Train Loss: 0.852 | Acc: 67.000% (67/100)\n",
            "100 500 Train Loss: 0.852 | Acc: 69.693% (7039/10100)\n",
            "200 500 Train Loss: 0.867 | Acc: 69.443% (13958/20100)\n",
            "300 500 Train Loss: 0.854 | Acc: 69.841% (21022/30100)\n",
            "400 500 Train Loss: 0.852 | Acc: 69.978% (28061/40100)\n",
            "0 100 Testing Loss: 0.767 | Acc: 73.000% (73/100)\n",
            "Test Accuracy of the model on the 10000 test images: 71.79 %\n",
            "Start Saving..\n",
            "Done Saving!\n",
            "\n",
            "Epoch: 5\n",
            "0 500 Train Loss: 0.796 | Acc: 72.000% (72/100)\n",
            "100 500 Train Loss: 0.805 | Acc: 71.485% (7220/10100)\n",
            "200 500 Train Loss: 0.804 | Acc: 71.478% (14367/20100)\n",
            "300 500 Train Loss: 0.794 | Acc: 71.824% (21619/30100)\n",
            "400 500 Train Loss: 0.791 | Acc: 71.893% (28829/40100)\n",
            "0 100 Testing Loss: 0.730 | Acc: 77.000% (77/100)\n",
            "Test Accuracy of the model on the 10000 test images: 76.1 %\n",
            "Start Saving..\n",
            "Done Saving!\n",
            "\n",
            "Epoch: 6\n",
            "0 500 Train Loss: 0.658 | Acc: 79.000% (79/100)\n",
            "100 500 Train Loss: 0.756 | Acc: 72.812% (7354/10100)\n",
            "200 500 Train Loss: 0.761 | Acc: 73.010% (14675/20100)\n",
            "300 500 Train Loss: 0.755 | Acc: 73.262% (22052/30100)\n",
            "400 500 Train Loss: 0.749 | Acc: 73.544% (29491/40100)\n",
            "0 100 Testing Loss: 0.819 | Acc: 71.000% (71/100)\n",
            "Test Accuracy of the model on the 10000 test images: 76.34 %\n",
            "Start Saving..\n",
            "Done Saving!\n",
            "\n",
            "Epoch: 7\n",
            "0 500 Train Loss: 0.899 | Acc: 70.000% (70/100)\n",
            "100 500 Train Loss: 0.728 | Acc: 74.762% (7551/10100)\n",
            "200 500 Train Loss: 0.709 | Acc: 75.219% (15119/20100)\n",
            "300 500 Train Loss: 0.709 | Acc: 75.302% (22666/30100)\n",
            "400 500 Train Loss: 0.709 | Acc: 75.282% (30188/40100)\n",
            "0 100 Testing Loss: 0.742 | Acc: 74.000% (74/100)\n",
            "Test Accuracy of the model on the 10000 test images: 76.61 %\n",
            "Start Saving..\n",
            "Done Saving!\n",
            "\n",
            "Epoch: 8\n",
            "0 500 Train Loss: 0.753 | Acc: 73.000% (73/100)\n",
            "100 500 Train Loss: 0.668 | Acc: 76.455% (7722/10100)\n",
            "200 500 Train Loss: 0.682 | Acc: 75.801% (15236/20100)\n",
            "300 500 Train Loss: 0.675 | Acc: 76.206% (22938/30100)\n",
            "400 500 Train Loss: 0.675 | Acc: 76.319% (30604/40100)\n",
            "0 100 Testing Loss: 0.747 | Acc: 73.000% (73/100)\n",
            "Test Accuracy of the model on the 10000 test images: 77.35 %\n",
            "Start Saving..\n",
            "Done Saving!\n",
            "\n",
            "Epoch: 9\n",
            "0 500 Train Loss: 0.642 | Acc: 76.000% (76/100)\n",
            "100 500 Train Loss: 0.633 | Acc: 77.683% (7846/10100)\n",
            "200 500 Train Loss: 0.649 | Acc: 77.154% (15508/20100)\n",
            "300 500 Train Loss: 0.655 | Acc: 77.086% (23203/30100)\n",
            "400 500 Train Loss: 0.656 | Acc: 77.072% (30906/40100)\n",
            "0 100 Testing Loss: 0.681 | Acc: 77.000% (77/100)\n",
            "Test Accuracy of the model on the 10000 test images: 79.94 %\n",
            "Start Saving..\n",
            "Done Saving!\n",
            "\n",
            "Epoch: 10\n",
            "0 500 Train Loss: 0.543 | Acc: 82.000% (82/100)\n",
            "100 500 Train Loss: 0.617 | Acc: 78.673% (7946/10100)\n",
            "200 500 Train Loss: 0.617 | Acc: 78.552% (15789/20100)\n",
            "300 500 Train Loss: 0.617 | Acc: 78.631% (23668/30100)\n",
            "400 500 Train Loss: 0.625 | Acc: 78.222% (31367/40100)\n",
            "0 100 Testing Loss: 0.589 | Acc: 82.000% (82/100)\n",
            "Test Accuracy of the model on the 10000 test images: 79.43 %\n",
            "\n",
            "Epoch: 11\n",
            "0 500 Train Loss: 0.488 | Acc: 82.000% (82/100)\n",
            "100 500 Train Loss: 0.614 | Acc: 78.248% (7903/10100)\n",
            "200 500 Train Loss: 0.613 | Acc: 78.428% (15764/20100)\n",
            "300 500 Train Loss: 0.613 | Acc: 78.395% (23597/30100)\n",
            "400 500 Train Loss: 0.615 | Acc: 78.411% (31443/40100)\n",
            "0 100 Testing Loss: 0.621 | Acc: 78.000% (78/100)\n",
            "Test Accuracy of the model on the 10000 test images: 79.89 %\n",
            "\n",
            "Epoch: 12\n",
            "0 500 Train Loss: 0.588 | Acc: 81.000% (81/100)\n",
            "100 500 Train Loss: 0.578 | Acc: 79.931% (8073/10100)\n",
            "200 500 Train Loss: 0.602 | Acc: 79.279% (15935/20100)\n",
            "300 500 Train Loss: 0.596 | Acc: 79.365% (23889/30100)\n",
            "400 500 Train Loss: 0.594 | Acc: 79.354% (31821/40100)\n",
            "0 100 Testing Loss: 0.677 | Acc: 76.000% (76/100)\n",
            "Test Accuracy of the model on the 10000 test images: 79.86 %\n",
            "\n",
            "Epoch: 13\n",
            "0 500 Train Loss: 0.482 | Acc: 85.000% (85/100)\n",
            "100 500 Train Loss: 0.562 | Acc: 79.960% (8076/10100)\n",
            "200 500 Train Loss: 0.568 | Acc: 79.791% (16038/20100)\n",
            "300 500 Train Loss: 0.566 | Acc: 79.957% (24067/30100)\n",
            "400 500 Train Loss: 0.573 | Acc: 79.798% (31999/40100)\n",
            "0 100 Testing Loss: 0.565 | Acc: 79.000% (79/100)\n",
            "Test Accuracy of the model on the 10000 test images: 80.41 %\n",
            "Start Saving..\n",
            "Done Saving!\n",
            "\n",
            "Epoch: 14\n",
            "0 500 Train Loss: 0.442 | Acc: 86.000% (86/100)\n",
            "100 500 Train Loss: 0.550 | Acc: 80.673% (8148/10100)\n",
            "200 500 Train Loss: 0.558 | Acc: 80.692% (16219/20100)\n",
            "300 500 Train Loss: 0.560 | Acc: 80.535% (24241/30100)\n",
            "400 500 Train Loss: 0.564 | Acc: 80.364% (32226/40100)\n",
            "0 100 Testing Loss: 0.521 | Acc: 85.000% (85/100)\n",
            "Test Accuracy of the model on the 10000 test images: 81.53 %\n",
            "Start Saving..\n",
            "Done Saving!\n",
            "\n",
            "Epoch: 15\n",
            "0 500 Train Loss: 0.545 | Acc: 78.000% (78/100)\n",
            "100 500 Train Loss: 0.551 | Acc: 80.604% (8141/10100)\n",
            "200 500 Train Loss: 0.550 | Acc: 80.786% (16238/20100)\n",
            "300 500 Train Loss: 0.548 | Acc: 80.857% (24338/30100)\n",
            "400 500 Train Loss: 0.549 | Acc: 80.870% (32429/40100)\n",
            "0 100 Testing Loss: 0.613 | Acc: 82.000% (82/100)\n",
            "Test Accuracy of the model on the 10000 test images: 81.42 %\n",
            "\n",
            "Epoch: 16\n",
            "0 500 Train Loss: 0.483 | Acc: 81.000% (81/100)\n",
            "100 500 Train Loss: 0.512 | Acc: 82.069% (8289/10100)\n",
            "200 500 Train Loss: 0.524 | Acc: 81.692% (16420/20100)\n",
            "300 500 Train Loss: 0.526 | Acc: 81.585% (24557/30100)\n",
            "400 500 Train Loss: 0.533 | Acc: 81.367% (32628/40100)\n",
            "0 100 Testing Loss: 0.653 | Acc: 77.000% (77/100)\n",
            "Test Accuracy of the model on the 10000 test images: 81.55 %\n",
            "Start Saving..\n",
            "Done Saving!\n",
            "\n",
            "Epoch: 17\n",
            "0 500 Train Loss: 0.449 | Acc: 85.000% (85/100)\n",
            "100 500 Train Loss: 0.509 | Acc: 82.366% (8319/10100)\n",
            "200 500 Train Loss: 0.512 | Acc: 81.995% (16481/20100)\n",
            "300 500 Train Loss: 0.515 | Acc: 82.027% (24690/30100)\n",
            "400 500 Train Loss: 0.517 | Acc: 81.923% (32851/40100)\n",
            "0 100 Testing Loss: 0.638 | Acc: 81.000% (81/100)\n",
            "Test Accuracy of the model on the 10000 test images: 80.96 %\n",
            "\n",
            "Epoch: 18\n",
            "0 500 Train Loss: 0.587 | Acc: 79.000% (79/100)\n",
            "100 500 Train Loss: 0.503 | Acc: 82.802% (8363/10100)\n",
            "200 500 Train Loss: 0.499 | Acc: 82.627% (16608/20100)\n",
            "300 500 Train Loss: 0.506 | Acc: 82.336% (24783/30100)\n",
            "400 500 Train Loss: 0.509 | Acc: 82.209% (32966/40100)\n",
            "0 100 Testing Loss: 0.626 | Acc: 81.000% (81/100)\n",
            "Test Accuracy of the model on the 10000 test images: 81.28 %\n",
            "\n",
            "Epoch: 19\n",
            "0 500 Train Loss: 0.537 | Acc: 82.000% (82/100)\n",
            "100 500 Train Loss: 0.506 | Acc: 82.050% (8287/10100)\n",
            "200 500 Train Loss: 0.502 | Acc: 82.333% (16549/20100)\n",
            "300 500 Train Loss: 0.504 | Acc: 82.362% (24791/30100)\n",
            "400 500 Train Loss: 0.507 | Acc: 82.347% (33021/40100)\n",
            "0 100 Testing Loss: 0.576 | Acc: 77.000% (77/100)\n",
            "Test Accuracy of the model on the 10000 test images: 81.47 %\n"
          ]
        }
      ],
      "source": [
        "for epoch in range(start_epoch, start_epoch + num_epochs):\n",
        "    l_tr = train(epoch)\n",
        "    l_te = test(epoch)\n"
      ]
    },
    {
      "cell_type": "markdown",
      "metadata": {
        "id": "JNXEDyGid21c"
      },
      "source": [
        "## 9 - Report your Results\n",
        "\n",
        "- You have to report the followings in a separate PDF:\n",
        "    - The number of parameters in your CNN.\n",
        "    - The best accuracy on the testing set (along with the training training set). You will get full credit if your model achieves $ > 70\\%$ accuracy on the testing set.\n",
        "    - F1 score on the testing set from the model with the best accuracy. There is no provided code for this; please implement F1 score.\n",
        "    - A plot containing the **training and testing accuracies** with respect to time (epochs).\n",
        "    - A plot containing the **training and testing losses** with respect to time (epochs).\n",
        "    - Try 2 more learning rates with the Adam optimizer and report the accuracy and F1 score for both.\n",
        "    - Try 2 more optimizers with a fixed learning rate of 0.01 and report the accuracy and F1 score for both.\n",
        "    - Trying different learning rates and optimizers is also known as Ablation Study. Organize your results in a table for ease of readability. Please give some insights on the performances of different settings.\n",
        "    - Finally, please submit the notebook **that contains the output logs**."
      ]
    },
    {
      "cell_type": "markdown",
      "metadata": {
        "id": "sZSPBz5eOrcj"
      },
      "source": [
        "## Extra - Evaluation from Checkpoint (Optional)\n",
        "This section will show you how to load the saved model."
      ]
    },
    {
      "cell_type": "code",
      "execution_count": null,
      "metadata": {
        "colab": {
          "base_uri": "https://localhost:8080/"
        },
        "id": "AvruNnQNoncp",
        "outputId": "1dfd0f3b-5e1b-411f-ca0e-35e6bd8d5fed"
      },
      "outputs": [
        {
          "output_type": "stream",
          "name": "stderr",
          "text": [
            "<ipython-input-33-facb9fe46b03>:1: FutureWarning: You are using `torch.load` with `weights_only=False` (the current default value), which uses the default pickle module implicitly. It is possible to construct malicious pickle data which will execute arbitrary code during unpickling (See https://github.com/pytorch/pytorch/blob/main/SECURITY.md#untrusted-models for more details). In a future release, the default value for `weights_only` will be flipped to `True`. This limits the functions that could be executed during unpickling. Arbitrary objects will no longer be allowed to be loaded via this mode unless they are explicitly allowlisted by the user via `torch.serialization.add_safe_globals`. We recommend you start setting `weights_only=True` for any use case where you don't have full control of the loaded file. Please open an issue on GitHub for any issues related to this experimental feature.\n",
            "  checkpoint = torch.load('./checkpoint/ckpt.pth') # load checkpoint\n"
          ]
        },
        {
          "output_type": "stream",
          "name": "stdout",
          "text": [
            "Test Accuracy of the model on the 10000 test images: 81.55 %\n"
          ]
        }
      ],
      "source": [
        "checkpoint = torch.load('./checkpoint/ckpt.pth') # load checkpoint\n",
        "model.load_state_dict(checkpoint['net']) # load model parameter\n",
        "\n",
        "model.eval()\n",
        "test_loss = 0\n",
        "correct = 0\n",
        "total = 0\n",
        "with torch.no_grad():\n",
        "    for batch_idx, (inputs, targets) in enumerate(testloader):\n",
        "        inputs, targets = inputs.to(device), targets.to(device)\n",
        "        ### START CODE HERE ### (≈ 2 lines of code)\n",
        "        # Forward pass real batch through model\n",
        "        outputs = model(inputs)\n",
        "        # Calculate loss on all-real batch\n",
        "        loss = criterion(outputs, targets)\n",
        "\n",
        "        ### END CODE HERE ###\n",
        "\n",
        "        test_loss += loss.item()\n",
        "        _, predicted = outputs.max(1)\n",
        "\n",
        "        total += targets.size(0)\n",
        "        correct += predicted.eq(targets).sum().item()\n",
        "acc = 100.*correct/total\n",
        "print('Test Accuracy of the model on the 10000 test images: {} %'.format(acc))\n"
      ]
    },
    {
      "cell_type": "markdown",
      "metadata": {
        "id": "YukbIdm7d5mL"
      },
      "source": [
        "## Extra - Plot the Training Loss  "
      ]
    },
    {
      "cell_type": "code",
      "execution_count": null,
      "metadata": {
        "colab": {
          "base_uri": "https://localhost:8080/",
          "height": 489
        },
        "id": "qyrrJ4lVo-82",
        "outputId": "eb706168-9e8a-4e89-aee0-e1636945f3aa"
      },
      "outputs": [
        {
          "output_type": "display_data",
          "data": {
            "text/plain": [
              "<Figure size 1000x500 with 1 Axes>"
            ],
            "image/png": "[encoded data removed]"
          },
          "metadata": {}
        }
      ],
      "source": [
        "plt.figure(figsize=(10,5))\n",
        "ax = plt.gca()\n",
        "plt.title(\"Training loss for LeNet-5 with Adam optimizer\", fontsize=15)\n",
        "plt.plot(l_tr,label=\"Training Loss\")\n",
        "plt.xlabel(\"iterations\")\n",
        "plt.ylabel(\"Loss\")\n",
        "#ax.text(0.7, 0.7,'Test ACC: 64.35%; lr=1e-3',\n",
        "     #horizontalalignment='center',\n",
        "     #verticalalignment='center',\n",
        "     #transform = ax.transAxes,\n",
        "     #fontsize=20, color='red')\n",
        "plt.legend()\n",
        "plt.show()\n"
      ]
    },
    {
      "cell_type": "markdown",
      "source": [
        "#The number of parameters in your CNN."
      ],
      "metadata": {
        "id": "TCGIKPa24XlC"
      }
    },
    {
      "cell_type": "code",
      "execution_count": null,
      "metadata": {
        "id": "Gr15uYpiYzHB",
        "colab": {
          "base_uri": "https://localhost:8080/"
        },
        "outputId": "4a1cf3ea-9b63-4b4a-b32a-917056e37f2f"
      },
      "outputs": [
        {
          "output_type": "stream",
          "name": "stdout",
          "text": [
            "Total number of parameters: 2454090\n"
          ]
        }
      ],
      "source": [
        "# Calculate total parameters\n",
        "total_params = sum(p.numel() for p in model.parameters())\n",
        "print(f'Total number of parameters: {total_params}')\n"
      ]
    },
    {
      "cell_type": "markdown",
      "source": [
        "#F1 Score\n",
        "F1 score on the testing set from the model with the best accuracy. There is no provided code for this; please implement F1 score."
      ],
      "metadata": {
        "id": "ndWDDK_v4hCA"
      }
    },
    {
      "cell_type": "code",
      "source": [
        "from sklearn.metrics import f1_score\n",
        "import numpy as np\n",
        "\n",
        "# Define the function to calculate F1 score\n",
        "def calculate_f1_score(model, testloader, device):\n",
        "    model.eval()\n",
        "    all_preds = []\n",
        "    all_labels = []\n",
        "\n",
        "    with torch.no_grad():\n",
        "        for inputs, targets in testloader:\n",
        "            inputs, targets = inputs.to(device), targets.to(device)\n",
        "\n",
        "            # Forward pass\n",
        "            outputs = model(inputs)\n",
        "\n",
        "            # Get predictions (class with highest probability)\n",
        "            _, predicted = outputs.max(1)\n",
        "\n",
        "            # Append predictions and true labels\n",
        "            all_preds.extend(predicted.cpu().numpy())  # Move to CPU for sklearn compatibility\n",
        "            all_labels.extend(targets.cpu().numpy())\n",
        "\n",
        "    # Calculate F1 score\n",
        "    f1 = f1_score(all_labels, all_preds, average='weighted')\n",
        "    return f1\n",
        "\n",
        "# Load the best model from the checkpoint\n",
        "checkpoint = torch.load('./checkpoint/ckpt.pth')\n",
        "model.load_state_dict(checkpoint['net'])\n",
        "\n",
        "# Calculate F1 score on the test set\n",
        "test_f1 = calculate_f1_score(model, testloader, device)\n",
        "print(f'Testing F1 Score: {test_f1:.4f}')\n"
      ],
      "metadata": {
        "colab": {
          "base_uri": "https://localhost:8080/"
        },
        "id": "joL8ByyAS61p",
        "outputId": "32cbb2ab-14f7-4b92-a884-e7caeb2e7c62"
      },
      "execution_count": null,
      "outputs": [
        {
          "output_type": "stream",
          "name": "stderr",
          "text": [
            "<ipython-input-40-03056667465a>:29: FutureWarning: You are using `torch.load` with `weights_only=False` (the current default value), which uses the default pickle module implicitly. It is possible to construct malicious pickle data which will execute arbitrary code during unpickling (See https://github.com/pytorch/pytorch/blob/main/SECURITY.md#untrusted-models for more details). In a future release, the default value for `weights_only` will be flipped to `True`. This limits the functions that could be executed during unpickling. Arbitrary objects will no longer be allowed to be loaded via this mode unless they are explicitly allowlisted by the user via `torch.serialization.add_safe_globals`. We recommend you start setting `weights_only=True` for any use case where you don't have full control of the loaded file. Please open an issue on GitHub for any issues related to this experimental feature.\n",
            "  checkpoint = torch.load('./checkpoint/ckpt.pth')\n"
          ]
        },
        {
          "output_type": "stream",
          "name": "stdout",
          "text": [
            "Testing F1 Score: 0.8171\n"
          ]
        }
      ]
    },
    {
      "cell_type": "markdown",
      "source": [
        "#Plot Train & Test acuuracies and loss\n",
        "A plot containing the training and testing accuracies with respect to time (epochs).\n",
        "\n",
        "A plot containing the training and testing losses with respect to time (epochs)."
      ],
      "metadata": {
        "id": "lrIvamqG5Rt6"
      }
    },
    {
      "cell_type": "code",
      "source": [
        "# Train the model and track the accuracy and loss for each epoch\n",
        "def train(epoch):\n",
        "    print('\\nEpoch: %d' % epoch)\n",
        "    model.train()\n",
        "    train_loss = 0\n",
        "    correct = 0\n",
        "    total = 0\n",
        "    for batch_idx, (inputs, targets) in enumerate(trainloader):\n",
        "        inputs, targets = inputs.to(device), targets.to(device)\n",
        "        optimizer.zero_grad()\n",
        "        outputs = model(inputs)\n",
        "        loss = criterion(outputs, targets)\n",
        "        loss.backward()\n",
        "        optimizer.step()\n",
        "\n",
        "        train_loss += loss.item()\n",
        "        _, predicted = outputs.max(1)\n",
        "        total += targets.size(0)\n",
        "        correct += predicted.eq(targets).sum().item()\n",
        "\n",
        "    train_accuracy = 100.*correct/total\n",
        "    avg_train_loss = train_loss / len(trainloader)\n",
        "\n",
        "    return avg_train_loss, train_accuracy\n",
        "\n",
        "# Test the model and track the accuracy and loss for each epoch\n",
        "def test(epoch):\n",
        "    global best_acc\n",
        "    model.eval()\n",
        "    test_loss = 0\n",
        "    correct = 0\n",
        "    total = 0\n",
        "    for batch_idx, (inputs, targets) in enumerate(testloader):\n",
        "        inputs, targets = inputs.to(device), targets.to(device)\n",
        "        outputs = model(inputs)\n",
        "        loss = criterion(outputs, targets)\n",
        "\n",
        "        test_loss += loss.item()\n",
        "        _, predicted = outputs.max(1)\n",
        "        total += targets.size(0)\n",
        "        correct += predicted.eq(targets).sum().item()\n",
        "\n",
        "    test_accuracy = 100.*correct/total\n",
        "    avg_test_loss = test_loss / len(testloader)\n",
        "\n",
        "    # Save the best model\n",
        "    acc = test_accuracy\n",
        "    if acc > best_acc:\n",
        "        print('Saving model...')\n",
        "        state = {'net': model.state_dict(), 'acc': acc, 'epoch': epoch}\n",
        "        if not os.path.isdir('checkpoint'):\n",
        "            os.mkdir('checkpoint')\n",
        "        torch.save(state, './checkpoint/ckpt.pth')\n",
        "        best_acc = acc\n",
        "        print('Model saved!')\n",
        "\n",
        "    return avg_test_loss, test_accuracy\n"
      ],
      "metadata": {
        "id": "gRXxgKOUT9m0"
      },
      "execution_count": null,
      "outputs": []
    },
    {
      "cell_type": "code",
      "source": [
        "train_losses = []\n",
        "test_losses = []\n",
        "train_accuracies = []\n",
        "test_accuracies = []\n",
        "\n",
        "# Training loop\n",
        "for epoch in range(start_epoch, start_epoch + num_epochs):\n",
        "    train_loss, train_acc = train(epoch)\n",
        "    test_loss, test_acc = test(epoch)\n",
        "\n",
        "    # Append the losses and accuracies for plotting\n",
        "    train_losses.append(train_loss)\n",
        "    test_losses.append(test_loss)\n",
        "    train_accuracies.append(train_acc)\n",
        "    test_accuracies.append(test_acc)\n"
      ],
      "metadata": {
        "colab": {
          "base_uri": "https://localhost:8080/"
        },
        "id": "0bj4qvX4UZCZ",
        "outputId": "b1a96981-74b4-4b7f-a24b-07bcc1d965e5"
      },
      "execution_count": null,
      "outputs": [
        {
          "output_type": "stream",
          "name": "stdout",
          "text": [
            "\n",
            "Epoch: 0\n",
            "Saving model...\n",
            "Model saved!\n",
            "\n",
            "Epoch: 1\n",
            "Saving model...\n",
            "Model saved!\n",
            "\n",
            "Epoch: 2\n",
            "\n",
            "Epoch: 3\n",
            "Saving model...\n",
            "Model saved!\n",
            "\n",
            "Epoch: 4\n",
            "\n",
            "Epoch: 5\n",
            "\n",
            "Epoch: 6\n",
            "Saving model...\n",
            "Model saved!\n",
            "\n",
            "Epoch: 7\n",
            "\n",
            "Epoch: 8\n",
            "Saving model...\n",
            "Model saved!\n",
            "\n",
            "Epoch: 9\n",
            "Saving model...\n",
            "Model saved!\n",
            "\n",
            "Epoch: 10\n",
            "\n",
            "Epoch: 11\n",
            "Saving model...\n",
            "Model saved!\n",
            "\n",
            "Epoch: 12\n",
            "\n",
            "Epoch: 13\n",
            "\n",
            "Epoch: 14\n",
            "\n",
            "Epoch: 15\n",
            "Saving model...\n",
            "Model saved!\n",
            "\n",
            "Epoch: 16\n",
            "\n",
            "Epoch: 17\n",
            "\n",
            "Epoch: 18\n",
            "\n",
            "Epoch: 19\n",
            "Saving model...\n",
            "Model saved!\n"
          ]
        }
      ]
    },
    {
      "cell_type": "code",
      "source": [
        "# Plot Training and Testing Accuracy\n",
        "plt.figure(figsize=(10, 5))\n",
        "plt.plot(range(num_epochs), train_accuracies, label='Training Accuracy')\n",
        "plt.plot(range(num_epochs), test_accuracies, label='Testing Accuracy')\n",
        "plt.title('Training and Testing Accuracy over Epochs')\n",
        "plt.xlabel('Epochs')\n",
        "plt.ylabel('Accuracy (%)')\n",
        "plt.legend()\n",
        "plt.show()\n",
        "\n",
        "# Plot Training and Testing Loss\n",
        "plt.figure(figsize=(10, 5))\n",
        "plt.plot(range(num_epochs), train_losses, label='Training Loss')\n",
        "plt.plot(range(num_epochs), test_losses, label='Testing Loss')\n",
        "plt.title('Training and Testing Loss over Epochs')\n",
        "plt.xlabel('Epochs')\n",
        "plt.ylabel('Loss')\n",
        "plt.legend()\n",
        "plt.show()\n"
      ],
      "metadata": {
        "colab": {
          "base_uri": "https://localhost:8080/",
          "height": 957
        },
        "id": "JGGpFwLdUbs4",
        "outputId": "34f22248-7530-47a0-99c4-a09d1ed3a737"
      },
      "execution_count": null,
      "outputs": [
        {
          "output_type": "display_data",
          "data": {
            "text/plain": [
              "<Figure size 1000x500 with 1 Axes>"
            ],
            "image/png": "[encoded data removed]"
          },
          "metadata": {}
        },
        {
          "output_type": "display_data",
          "data": {
            "text/plain": [
              "<Figure size 1000x500 with 1 Axes>"
            ],
            "image/png": "[encoded data removed]"
          },
          "metadata": {}
        }
      ]
    },
    {
      "cell_type": "markdown",
      "source": [
        "#Try 2 more learning rates with the Adam optimizer and report the accuracy and F1 score for both."
      ],
      "metadata": {
        "id": "-MKWiEvR6G9H"
      }
    },
    {
      "cell_type": "code",
      "source": [
        "from sklearn.metrics import f1_score\n",
        "import numpy as np\n",
        "\n",
        "# Define the function to calculate F1 score\n",
        "def calculate_f1_score(model, testloader, device):\n",
        "    model.eval()\n",
        "    all_preds = []\n",
        "    all_labels = []\n",
        "\n",
        "    with torch.no_grad():\n",
        "        for inputs, targets in testloader:\n",
        "            inputs, targets = inputs.to(device), targets.to(device)\n",
        "            outputs = model(inputs)\n",
        "            _, predicted = outputs.max(1)\n",
        "\n",
        "            all_preds.extend(predicted.cpu().numpy())\n",
        "            all_labels.extend(targets.cpu().numpy())\n",
        "\n",
        "    f1 = f1_score(all_labels, all_preds, average='weighted')\n",
        "    return f1\n",
        "\n",
        "# Function to train the model with a specific learning rate\n",
        "def train_and_evaluate_model(learning_rate, trainloader, testloader, device, num_epochs=20):\n",
        "    model = Model().to(device)\n",
        "    optimizer = optim.Adam(model.parameters(), lr=learning_rate)\n",
        "    criterion = nn.CrossEntropyLoss()\n",
        "\n",
        "    # Train the model\n",
        "    for epoch in range(num_epochs):\n",
        "        train_loss = train(epoch)\n",
        "        test_loss = test(epoch)\n",
        "\n",
        "    # Evaluate the model's accuracy and F1 score\n",
        "    model.eval()\n",
        "    test_loss = 0\n",
        "    correct = 0\n",
        "    total = 0\n",
        "    with torch.no_grad():\n",
        "        for inputs, targets in testloader:\n",
        "            inputs, targets = inputs.to(device), targets.to(device)\n",
        "            outputs = model(inputs)\n",
        "            loss = criterion(outputs, targets)\n",
        "\n",
        "            test_loss += loss.item()\n",
        "            _, predicted = outputs.max(1)\n",
        "\n",
        "            total += targets.size(0)\n",
        "            correct += predicted.eq(targets).sum().item()\n",
        "\n",
        "    acc = 100.*correct/total\n",
        "    f1 = calculate_f1_score(model, testloader, device)\n",
        "\n",
        "    return acc, f1\n",
        "\n",
        "# Try two different learning rates and evaluate the performance\n",
        "learning_rates = [0.0001, 0.0005]  # New learning rates to try\n",
        "\n",
        "for lr in learning_rates:\n",
        "    print(f\"\\nTraining with Learning Rate: {lr}\")\n",
        "    acc, f1 = train_and_evaluate_model(lr, trainloader, testloader, device)\n",
        "    print(f\"Accuracy: {acc:.2f}% | F1 Score: {f1:.4f}\")\n"
      ],
      "metadata": {
        "colab": {
          "base_uri": "https://localhost:8080/"
        },
        "id": "aYqS7M3fWte8",
        "outputId": "24f0adc4-0f9c-4827-f1ec-930cfe875614"
      },
      "execution_count": null,
      "outputs": [
        {
          "output_type": "stream",
          "name": "stdout",
          "text": [
            "\n",
            "Training with Learning Rate: 0.0001\n",
            "\n",
            "Epoch: 0\n",
            "Saving model...\n",
            "Model saved!\n",
            "\n",
            "Epoch: 1\n",
            "\n",
            "Epoch: 2\n",
            "\n",
            "Epoch: 3\n",
            "\n",
            "Epoch: 4\n",
            "\n",
            "Epoch: 5\n",
            "\n",
            "Epoch: 6\n",
            "\n",
            "Epoch: 7\n",
            "\n",
            "Epoch: 8\n",
            "\n",
            "Epoch: 9\n",
            "\n",
            "Epoch: 10\n",
            "Saving model...\n",
            "Model saved!\n",
            "\n",
            "Epoch: 11\n",
            "\n",
            "Epoch: 12\n",
            "\n",
            "Epoch: 13\n",
            "\n",
            "Epoch: 14\n",
            "\n",
            "Epoch: 15\n",
            "\n",
            "Epoch: 16\n",
            "\n",
            "Epoch: 17\n",
            "\n",
            "Epoch: 18\n",
            "\n",
            "Epoch: 19\n",
            "Accuracy: 10.00% | F1 Score: 0.0182\n",
            "\n",
            "Training with Learning Rate: 0.0005\n",
            "\n",
            "Epoch: 0\n",
            "\n",
            "Epoch: 1\n",
            "\n",
            "Epoch: 2\n",
            "\n",
            "Epoch: 3\n",
            "Saving model...\n",
            "Model saved!\n",
            "\n",
            "Epoch: 4\n",
            "\n",
            "Epoch: 5\n",
            "\n",
            "Epoch: 6\n",
            "\n",
            "Epoch: 7\n",
            "\n",
            "Epoch: 8\n",
            "\n",
            "Epoch: 9\n",
            "\n",
            "Epoch: 10\n",
            "\n",
            "Epoch: 11\n",
            "\n",
            "Epoch: 12\n",
            "\n",
            "Epoch: 13\n",
            "\n",
            "Epoch: 14\n",
            "\n",
            "Epoch: 15\n",
            "\n",
            "Epoch: 16\n",
            "Saving model...\n",
            "Model saved!\n",
            "\n",
            "Epoch: 17\n",
            "\n",
            "Epoch: 18\n",
            "\n",
            "Epoch: 19\n",
            "Accuracy: 10.00% | F1 Score: 0.0182\n"
          ]
        }
      ]
    },
    {
      "cell_type": "markdown",
      "source": [
        "#Try 2 more optimizers with a fixed learning rate of 0.01 and report the accuracy and F1 score for both."
      ],
      "metadata": {
        "id": "gH5CinpD6PKl"
      }
    },
    {
      "cell_type": "code",
      "source": [
        "from sklearn.metrics import f1_score\n",
        "import torch.optim as optim\n",
        "\n",
        "# Function to train the model with a specific optimizer\n",
        "def train_and_evaluate_optimizer(optimizer_type, learning_rate, trainloader, testloader, device, num_epochs=20):\n",
        "    model = Model().to(device)\n",
        "\n",
        "    # Choose optimizer based on the input argument\n",
        "    if optimizer_type == 'SGD':\n",
        "        optimizer = optim.SGD(model.parameters(), lr=learning_rate)\n",
        "    elif optimizer_type == 'RMSprop':\n",
        "        optimizer = optim.RMSprop(model.parameters(), lr=learning_rate)\n",
        "    else:\n",
        "        raise ValueError(\"Unsupported optimizer type.\")\n",
        "\n",
        "    criterion = nn.CrossEntropyLoss()\n",
        "\n",
        "    # Train the model\n",
        "    for epoch in range(num_epochs):\n",
        "        train_loss = train(epoch)\n",
        "        test_loss = test(epoch)\n",
        "\n",
        "    # Evaluate the model's accuracy and F1 score\n",
        "    model.eval()\n",
        "    test_loss = 0\n",
        "    correct = 0\n",
        "    total = 0\n",
        "    with torch.no_grad():\n",
        "        for inputs, targets in testloader:\n",
        "            inputs, targets = inputs.to(device), targets.to(device)\n",
        "            outputs = model(inputs)\n",
        "            loss = criterion(outputs, targets)\n",
        "\n",
        "            test_loss += loss.item()\n",
        "            _, predicted = outputs.max(1)\n",
        "\n",
        "            total += targets.size(0)\n",
        "            correct += predicted.eq(targets).sum().item()\n",
        "\n",
        "    acc = 100.*correct/total\n",
        "    f1 = calculate_f1_score(model, testloader, device)\n",
        "\n",
        "    return acc, f1\n",
        "\n",
        "# Try two different optimizers with a fixed learning rate of 0.01 and evaluate the performance\n",
        "learning_rate = 0.01\n",
        "optimizers = ['SGD', 'RMSprop']  # Optimizers to try\n",
        "\n",
        "for opt in optimizers:\n",
        "    print(f\"\\nTraining with Optimizer: {opt} and Learning Rate: {learning_rate}\")\n",
        "    acc, f1 = train_and_evaluate_optimizer(opt, learning_rate, trainloader, testloader, device)\n",
        "    print(f\"Accuracy: {acc:.2f}% | F1 Score: {f1:.4f}\")\n"
      ],
      "metadata": {
        "colab": {
          "base_uri": "https://localhost:8080/"
        },
        "id": "3c970eAWYxCX",
        "outputId": "210781b2-3e8c-4d51-d6f3-01633c5c7761"
      },
      "execution_count": null,
      "outputs": [
        {
          "output_type": "stream",
          "name": "stdout",
          "text": [
            "\n",
            "Training with Optimizer: SGD and Learning Rate: 0.01\n",
            "\n",
            "Epoch: 0\n",
            "\n",
            "Epoch: 1\n",
            "\n",
            "Epoch: 2\n",
            "\n",
            "Epoch: 3\n",
            "\n",
            "Epoch: 4\n",
            "\n",
            "Epoch: 5\n",
            "\n",
            "Epoch: 6\n",
            "\n",
            "Epoch: 7\n",
            "\n",
            "Epoch: 8\n",
            "\n",
            "Epoch: 9\n",
            "\n",
            "Epoch: 10\n",
            "\n",
            "Epoch: 11\n",
            "\n",
            "Epoch: 12\n",
            "\n",
            "Epoch: 13\n",
            "\n",
            "Epoch: 14\n",
            "\n",
            "Epoch: 15\n",
            "\n",
            "Epoch: 16\n",
            "\n",
            "Epoch: 17\n",
            "\n",
            "Epoch: 18\n",
            "\n",
            "Epoch: 19\n",
            "Saving model...\n",
            "Model saved!\n",
            "Accuracy: 10.00% | F1 Score: 0.0192\n",
            "\n",
            "Training with Optimizer: RMSprop and Learning Rate: 0.01\n",
            "\n",
            "Epoch: 0\n",
            "\n",
            "Epoch: 1\n",
            "\n",
            "Epoch: 2\n",
            "\n",
            "Epoch: 3\n",
            "\n",
            "Epoch: 4\n",
            "\n",
            "Epoch: 5\n",
            "\n",
            "Epoch: 6\n",
            "\n",
            "Epoch: 7\n",
            "\n",
            "Epoch: 8\n",
            "\n",
            "Epoch: 9\n",
            "\n",
            "Epoch: 10\n",
            "\n",
            "Epoch: 11\n",
            "\n",
            "Epoch: 12\n",
            "\n",
            "Epoch: 13\n",
            "\n",
            "Epoch: 14\n",
            "\n",
            "Epoch: 15\n",
            "\n",
            "Epoch: 16\n",
            "\n",
            "Epoch: 17\n",
            "\n",
            "Epoch: 18\n",
            "\n",
            "Epoch: 19\n",
            "Accuracy: 10.00% | F1 Score: 0.0182\n"
          ]
        }
      ]
    },
    {
      "cell_type": "code",
      "source": [],
      "metadata": {
        "id": "wyTYIdl7ZMxI"
      },
      "execution_count": null,
      "outputs": []
    }
  ],
  "metadata": {
    "accelerator": "GPU",
    "colab": {
      "provenance": []
    },
    "kernelspec": {
      "display_name": "Python 3",
      "language": "python",
      "name": "python3"
    },
    "language_info": {
      "codemirror_mode": {
        "name": "ipython",
        "version": 3
      },
      "file_extension": ".py",
      "mimetype": "text/x-python",
      "name": "python",
      "nbconvert_exporter": "python",
      "pygments_lexer": "ipython3",
      "version": "3.7.4"
    }
  },
  "nbformat": 4,
  "nbformat_minor": 0
}